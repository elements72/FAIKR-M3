{
 "cells": [
  {
   "cell_type": "markdown",
   "metadata": {},
   "source": [
    "## Introduction\n",
    "League of legends is an online game in which two teams composed of five players each battles one another. The goal of the game is to destroy a structure situated in the enemy base and therefore there's no possibility of a draw. Games usually last about 25 to 30 minutes and during that time there are a series of events which can change the balance between the two teams: kills, towers destroyed, dragon taken and so on.\n",
    "\n",
    "The aim of this project is to analyze, using a bayesian network, how the differents stats taken at the 10 minute mark of a game influence the final win.\n",
    "\n"
   ]
  },
  {
   "cell_type": "code",
   "execution_count": 20,
   "metadata": {
    "collapsed": true,
    "pycharm": {
     "name": "#%%\n"
    }
   },
   "outputs": [],
   "source": [
    "from pgmpy.models import BayesianNetwork\n",
    "from pgmpy.inference import VariableElimination\n",
    "from pgmpy.factors.discrete import TabularCPD\n",
    "from pgmpy.estimators import BicScore"
   ]
  },
  {
   "cell_type": "code",
   "execution_count": 21,
   "metadata": {},
   "outputs": [],
   "source": [
    "import pandas as pd\n",
    "import numpy as np\n",
    "import seaborn as sns\n",
    "import matplotlib.pyplot as plt"
   ]
  },
  {
   "cell_type": "markdown",
   "metadata": {
    "collapsed": false,
    "pycharm": {
     "name": "#%% md\n"
    }
   },
   "source": [
    "## Dataset\n",
    "The dataset used could be found [here](https://www.kaggle.com/datasets/bobbyscience/league-of-legends-diamond-ranked-games-10-min).\n",
    "This dataset contains the first 10min. stats of approx. 10k ranked games from a high ELO (DIAMOND I to MASTER). Players have roughly the same level.\n",
    "There are 19 features per team (38 in total) collected after 10min in-game. This includes kills, deaths, gold, experience, level...\n",
    "\n",
    "The column blueWins is the target value. A value of 1 means the blue team has won. 0 otherwise.\n",
    "\n",
    "With the dataset there is also a nice analysis of data [here](https://www.kaggle.com/code/xiyuewang/lol-how-to-win).\n",
    "\n",
    "For our purposes we decide to use as features, and aleatory variables, the differences between the two teams in differents statistics of the game.\n",
    "\n",
    "The feature computed from the dataset are:\n",
    " 1. blueWins: **1** blue teams wins **0** red team wins, there is no draw\n",
    " 2. goldDiff: gold difference between the two teams. It is measure of how much a team is in advantage\n",
    " 3. expDiff: experience difference between the two teams. Another measure of how much a team is in advantage\n",
    " 4. killsDiff: compute as \"bluesKills\" - \"blueDeaths\", is the difference between the kills and the deaths of the blue team\n",
    " 5. minionsDiff: computed as \"blueTotalMinionsKilled\" - \"redTotalMinionsKilled\", is the difference between the minions killed by the two teams\n",
    " 6. towersDiff: computed as \"blueTowersDestroyed\" - \"redTowersDestroyed\". Towers are fortifications which defends the teams. The destruction of the towers is crucial to have an advantage\n",
    " 7. dragonsDiff: computed as \"blueDragons\" - \"redDragons\". Dragons are enemies scattered in the map. Killing a dragon gives to the team additional stats.\n",
    " 8. blueHeralds: Herald are enemies scattered in the map. Killing a Herald gives to the team a friendly minion which is very effective against the enemies tower.\n",
    " 9. redHeralds: same as above."
   ]
  },
  {
   "cell_type": "code",
   "execution_count": 22,
   "metadata": {
    "collapsed": false,
    "pycharm": {
     "name": "#%%\n"
    }
   },
   "outputs": [],
   "source": [
    "\n",
    "def create_dataset(data):\n",
    "    columns = [\"blueWins\", \"blueGoldDiff\", \"blueExperienceDiff\", \"blueHeralds\", \"redHeralds\"]\n",
    "    dataset = data.loc[:, columns]\n",
    "    dataset[\"killsDiff\"] = data.apply(lambda row: row[\"blueKills\"]-row[\"redKills\"], axis=1)\n",
    "    dataset[\"minionsDiff\"] = data.apply(lambda row: row[\"blueTotalMinionsKilled\"]-row[\"redTotalMinionsKilled\"], axis=1)\n",
    "    dataset[\"dragonsDiff\"] = data.apply(lambda row: row[\"blueDragons\"]-row[\"redDragons\"], axis=1)\n",
    "    dataset[\"towersDiff\"] = data.apply(lambda row: row[\"blueTowersDestroyed\"]-row[\"redTowersDestroyed\"], axis=1)\n",
    "    return dataset"
   ]
  },
  {
   "cell_type": "markdown",
   "metadata": {},
   "source": [
    "## Discretization\n",
    "Discretization is the process through which we can transform continuous variables, models or functions into a discrete form. We do this by creating a set of contiguous bins that go across the range of our desired variable.\n",
    "First we compute our feature and after we discretize them using one of the following set of labels:\n",
    "1. \"True\", \"False\": used for values that have only two possibile values.\n",
    "    - blueWins\n",
    "    - blueHeralds\n",
    "    - redHeralds\n",
    "2. \"Negative\", \"Neutral\", \"Positive\": used for all the statistics that usually are quite similar for both teams at 10 minutes game.\n",
    "    - minionsDiff\n",
    "    - dragonsDiff\n",
    "    - towersDiff\n",
    "2. \"Very Negative\", \"Negative\", \"Neutral\", \"Positive\", \"Very Positive\": used for the statistics that could be very different also at the start of the game\n",
    "    - blueGoldDiff\n",
    "    - blueExperienceDiff\n",
    "    - killsDiff\n",
    "\n",
    "The values are chosen in a way that the data are balanced between the bins.\n",
    "We expect this type of ordering between the cardinality of the categories:\n",
    "\n",
    "Neutral >~ Positive ≈ Negative > Very Positive ≈ Very Negative"
   ]
  },
  {
   "cell_type": "code",
   "execution_count": 46,
   "metadata": {
    "collapsed": false,
    "pycharm": {
     "name": "#%%\n"
    }
   },
   "outputs": [],
   "source": [
    "def discretize(data):\n",
    "    dataset = data.copy()\n",
    "    negative_neutral_positive = [\"Negative\", \"Neutral\", \"Positive\"]\n",
    "    negative_neutral_positive_aug = [\"Very Negative\", \"Negative\", \"Neutral\", \"Positive\", \"Very Positive\"]\n",
    "\n",
    "\n",
    "    dataset[\"minionsDiff\"] = pd.cut(dataset[\"minionsDiff\"], bins=[-np.inf, -15, +15, np.inf], labels=negative_neutral_positive, include_lowest = True)\n",
    "    dataset[\"dragonsDiff\"] = pd.cut(dataset[\"dragonsDiff\"], bins=[-np.inf, -1, 0, np.inf], labels=negative_neutral_positive, include_lowest = True)\n",
    "    dataset[\"towersDiff\"] = pd.cut(dataset[\"towersDiff\"], bins=[-np.inf, -1, 0, np.inf], labels=negative_neutral_positive, include_lowest = True)\n",
    "\n",
    "    \n",
    "    dataset[\"blueGoldDiff\"] = pd.cut(dataset[\"blueGoldDiff\"], bins=[-np.inf, -2500, -1000, 1000, 2500, np.inf], labels=negative_neutral_positive_aug, include_lowest = True)\n",
    "    dataset[\"blueExperienceDiff\"] = pd.cut(dataset[\"blueExperienceDiff\"], bins=[-np.inf,-2000,-750, 750, 2000, np.inf], labels=negative_neutral_positive_aug, include_lowest = True)\n",
    "    dataset[\"killsDiff\"] = pd.cut(dataset[\"killsDiff\"], bins=[-np.inf,-4, -2, 2, 4, np.inf], labels=negative_neutral_positive_aug, include_lowest = True)\n",
    "\n",
    "\n",
    "    true_false = {1: \"True\", 0: \"False\"}\n",
    "    dataset = dataset.replace({\"blueWins\": true_false, \"blueHeralds\": true_false, \"redHeralds\": true_false})\n",
    "\n",
    "    return dataset"
   ]
  },
  {
   "cell_type": "code",
   "execution_count": 30,
   "metadata": {},
   "outputs": [
    {
     "data": {
      "text/html": [
       "<div>\n",
       "<style scoped>\n",
       "    .dataframe tbody tr th:only-of-type {\n",
       "        vertical-align: middle;\n",
       "    }\n",
       "\n",
       "    .dataframe tbody tr th {\n",
       "        vertical-align: top;\n",
       "    }\n",
       "\n",
       "    .dataframe thead th {\n",
       "        text-align: right;\n",
       "    }\n",
       "</style>\n",
       "<table border=\"1\" class=\"dataframe\">\n",
       "  <thead>\n",
       "    <tr style=\"text-align: right;\">\n",
       "      <th></th>\n",
       "      <th>gameId</th>\n",
       "      <th>blueWins</th>\n",
       "      <th>blueWardsPlaced</th>\n",
       "      <th>blueWardsDestroyed</th>\n",
       "      <th>blueFirstBlood</th>\n",
       "      <th>blueKills</th>\n",
       "      <th>blueDeaths</th>\n",
       "      <th>blueAssists</th>\n",
       "      <th>blueEliteMonsters</th>\n",
       "      <th>blueDragons</th>\n",
       "      <th>...</th>\n",
       "      <th>redTowersDestroyed</th>\n",
       "      <th>redTotalGold</th>\n",
       "      <th>redAvgLevel</th>\n",
       "      <th>redTotalExperience</th>\n",
       "      <th>redTotalMinionsKilled</th>\n",
       "      <th>redTotalJungleMinionsKilled</th>\n",
       "      <th>redGoldDiff</th>\n",
       "      <th>redExperienceDiff</th>\n",
       "      <th>redCSPerMin</th>\n",
       "      <th>redGoldPerMin</th>\n",
       "    </tr>\n",
       "  </thead>\n",
       "  <tbody>\n",
       "    <tr>\n",
       "      <th>0</th>\n",
       "      <td>4519157822</td>\n",
       "      <td>0</td>\n",
       "      <td>28</td>\n",
       "      <td>2</td>\n",
       "      <td>1</td>\n",
       "      <td>9</td>\n",
       "      <td>6</td>\n",
       "      <td>11</td>\n",
       "      <td>0</td>\n",
       "      <td>0</td>\n",
       "      <td>...</td>\n",
       "      <td>0</td>\n",
       "      <td>16567</td>\n",
       "      <td>6.8</td>\n",
       "      <td>17047</td>\n",
       "      <td>197</td>\n",
       "      <td>55</td>\n",
       "      <td>-643</td>\n",
       "      <td>8</td>\n",
       "      <td>19.7</td>\n",
       "      <td>1656.7</td>\n",
       "    </tr>\n",
       "    <tr>\n",
       "      <th>1</th>\n",
       "      <td>4523371949</td>\n",
       "      <td>0</td>\n",
       "      <td>12</td>\n",
       "      <td>1</td>\n",
       "      <td>0</td>\n",
       "      <td>5</td>\n",
       "      <td>5</td>\n",
       "      <td>5</td>\n",
       "      <td>0</td>\n",
       "      <td>0</td>\n",
       "      <td>...</td>\n",
       "      <td>1</td>\n",
       "      <td>17620</td>\n",
       "      <td>6.8</td>\n",
       "      <td>17438</td>\n",
       "      <td>240</td>\n",
       "      <td>52</td>\n",
       "      <td>2908</td>\n",
       "      <td>1173</td>\n",
       "      <td>24.0</td>\n",
       "      <td>1762.0</td>\n",
       "    </tr>\n",
       "    <tr>\n",
       "      <th>2</th>\n",
       "      <td>4521474530</td>\n",
       "      <td>0</td>\n",
       "      <td>15</td>\n",
       "      <td>0</td>\n",
       "      <td>0</td>\n",
       "      <td>7</td>\n",
       "      <td>11</td>\n",
       "      <td>4</td>\n",
       "      <td>1</td>\n",
       "      <td>1</td>\n",
       "      <td>...</td>\n",
       "      <td>0</td>\n",
       "      <td>17285</td>\n",
       "      <td>6.8</td>\n",
       "      <td>17254</td>\n",
       "      <td>203</td>\n",
       "      <td>28</td>\n",
       "      <td>1172</td>\n",
       "      <td>1033</td>\n",
       "      <td>20.3</td>\n",
       "      <td>1728.5</td>\n",
       "    </tr>\n",
       "    <tr>\n",
       "      <th>3</th>\n",
       "      <td>4524384067</td>\n",
       "      <td>0</td>\n",
       "      <td>43</td>\n",
       "      <td>1</td>\n",
       "      <td>0</td>\n",
       "      <td>4</td>\n",
       "      <td>5</td>\n",
       "      <td>5</td>\n",
       "      <td>1</td>\n",
       "      <td>0</td>\n",
       "      <td>...</td>\n",
       "      <td>0</td>\n",
       "      <td>16478</td>\n",
       "      <td>7.0</td>\n",
       "      <td>17961</td>\n",
       "      <td>235</td>\n",
       "      <td>47</td>\n",
       "      <td>1321</td>\n",
       "      <td>7</td>\n",
       "      <td>23.5</td>\n",
       "      <td>1647.8</td>\n",
       "    </tr>\n",
       "    <tr>\n",
       "      <th>4</th>\n",
       "      <td>4436033771</td>\n",
       "      <td>0</td>\n",
       "      <td>75</td>\n",
       "      <td>4</td>\n",
       "      <td>0</td>\n",
       "      <td>6</td>\n",
       "      <td>6</td>\n",
       "      <td>6</td>\n",
       "      <td>0</td>\n",
       "      <td>0</td>\n",
       "      <td>...</td>\n",
       "      <td>0</td>\n",
       "      <td>17404</td>\n",
       "      <td>7.0</td>\n",
       "      <td>18313</td>\n",
       "      <td>225</td>\n",
       "      <td>67</td>\n",
       "      <td>1004</td>\n",
       "      <td>-230</td>\n",
       "      <td>22.5</td>\n",
       "      <td>1740.4</td>\n",
       "    </tr>\n",
       "  </tbody>\n",
       "</table>\n",
       "<p>5 rows × 40 columns</p>\n",
       "</div>"
      ],
      "text/plain": [
       "       gameId  blueWins  blueWardsPlaced  blueWardsDestroyed  blueFirstBlood  \\\n",
       "0  4519157822         0               28                   2               1   \n",
       "1  4523371949         0               12                   1               0   \n",
       "2  4521474530         0               15                   0               0   \n",
       "3  4524384067         0               43                   1               0   \n",
       "4  4436033771         0               75                   4               0   \n",
       "\n",
       "   blueKills  blueDeaths  blueAssists  blueEliteMonsters  blueDragons  ...  \\\n",
       "0          9           6           11                  0            0  ...   \n",
       "1          5           5            5                  0            0  ...   \n",
       "2          7          11            4                  1            1  ...   \n",
       "3          4           5            5                  1            0  ...   \n",
       "4          6           6            6                  0            0  ...   \n",
       "\n",
       "   redTowersDestroyed  redTotalGold  redAvgLevel  redTotalExperience  \\\n",
       "0                   0         16567          6.8               17047   \n",
       "1                   1         17620          6.8               17438   \n",
       "2                   0         17285          6.8               17254   \n",
       "3                   0         16478          7.0               17961   \n",
       "4                   0         17404          7.0               18313   \n",
       "\n",
       "   redTotalMinionsKilled  redTotalJungleMinionsKilled  redGoldDiff  \\\n",
       "0                    197                           55         -643   \n",
       "1                    240                           52         2908   \n",
       "2                    203                           28         1172   \n",
       "3                    235                           47         1321   \n",
       "4                    225                           67         1004   \n",
       "\n",
       "   redExperienceDiff  redCSPerMin  redGoldPerMin  \n",
       "0                  8         19.7         1656.7  \n",
       "1               1173         24.0         1762.0  \n",
       "2               1033         20.3         1728.5  \n",
       "3                  7         23.5         1647.8  \n",
       "4               -230         22.5         1740.4  \n",
       "\n",
       "[5 rows x 40 columns]"
      ]
     },
     "execution_count": 30,
     "metadata": {},
     "output_type": "execute_result"
    }
   ],
   "source": [
    "path = \"high_diamond_ranked_10min.csv\"\n",
    "data = pd.read_csv(path)\n",
    "data.head()"
   ]
  },
  {
   "cell_type": "code",
   "execution_count": 47,
   "metadata": {
    "collapsed": false,
    "pycharm": {
     "name": "#%%\n"
    }
   },
   "outputs": [
    {
     "name": "stdout",
     "output_type": "stream",
     "text": [
      "False    4949\n",
      "True     4930\n",
      "Name: blueWins, dtype: int64\n",
      "Neutral          3248\n",
      "Positive         1865\n",
      "Negative         1819\n",
      "Very Positive    1476\n",
      "Very Negative    1471\n",
      "Name: blueGoldDiff, dtype: int64\n",
      "Neutral          3112\n",
      "Negative         2004\n",
      "Positive         1931\n",
      "Very Negative    1457\n",
      "Very Positive    1375\n",
      "Name: blueExperienceDiff, dtype: int64\n",
      "False    8022\n",
      "True     1857\n",
      "Name: blueHeralds, dtype: int64\n",
      "False    8298\n",
      "True     1581\n",
      "Name: redHeralds, dtype: int64\n",
      "Neutral          3671\n",
      "Very Negative    1941\n",
      "Negative         1550\n",
      "Very Positive    1406\n",
      "Positive         1311\n",
      "Name: killsDiff, dtype: int64\n",
      "Neutral     3769\n",
      "Negative    3189\n",
      "Positive    2921\n",
      "Name: minionsDiff, dtype: int64\n",
      "Negative    4081\n",
      "Positive    3576\n",
      "Neutral     2222\n",
      "Name: dragonsDiff, dtype: int64\n",
      "Neutral     9064\n",
      "Positive     441\n",
      "Negative     374\n",
      "Name: towersDiff, dtype: int64\n"
     ]
    }
   ],
   "source": [
    "data_clean = create_dataset(data)\n",
    "dataset = discretize(data_clean)\n",
    "dataset.head()\n",
    "for column in dataset:\n",
    "    print(pd.value_counts(dataset[column]))\n"
   ]
  },
  {
   "cell_type": "code",
   "execution_count": 32,
   "metadata": {},
   "outputs": [
    {
     "name": "stdout",
     "output_type": "stream",
     "text": [
      "<class 'pandas.core.frame.DataFrame'>\n",
      "RangeIndex: 9879 entries, 0 to 9878\n",
      "Data columns (total 9 columns):\n",
      " #   Column              Non-Null Count  Dtype   \n",
      "---  ------              --------------  -----   \n",
      " 0   blueWins            9879 non-null   object  \n",
      " 1   blueGoldDiff        9879 non-null   category\n",
      " 2   blueExperienceDiff  9879 non-null   category\n",
      " 3   blueHeralds         9879 non-null   category\n",
      " 4   redHeralds          9879 non-null   category\n",
      " 5   killsDiff           9879 non-null   category\n",
      " 6   minionsDiff         9879 non-null   category\n",
      " 7   dragonsDiff         9879 non-null   category\n",
      " 8   towersDiff          9879 non-null   category\n",
      "dtypes: category(8), object(1)\n",
      "memory usage: 155.7+ KB\n"
     ]
    }
   ],
   "source": [
    "dataset.info()"
   ]
  },
  {
   "cell_type": "code",
   "execution_count": 33,
   "metadata": {},
   "outputs": [
    {
     "data": {
      "text/plain": [
       "<AxesSubplot: >"
      ]
     },
     "execution_count": 33,
     "metadata": {},
     "output_type": "execute_result"
    },
    {
     "data": {
      "image/png": "[encoded data removed]",
      "text/plain": [
       "<Figure size 1600x1200 with 2 Axes>"
      ]
     },
     "metadata": {},
     "output_type": "display_data"
    }
   ],
   "source": [
    "# Correlation matrix\n",
    "plt.figure(figsize=(16, 12))\n",
    "sns.heatmap(data_clean.corr(),cmap='YlGnBu', annot=True, fmt='.2f', vmin=0)"
   ]
  },
  {
   "cell_type": "markdown",
   "metadata": {},
   "source": [
    "# Bayesian networks\n",
    "Let's build our bayesian network using two different approaches:\n",
    "1. Manual approach: the net is built using our personal knoweldge of the topic.\n",
    "2. Hillclimbing search: a greedy local search that starts from the DAG start (default: disconnected DAG)\n"
   ]
  },
  {
   "cell_type": "code",
   "execution_count": null,
   "metadata": {},
   "outputs": [],
   "source": [
    "import networkx as nx\n",
    "from networkx.drawing.nx_pydot import graphviz_layout\n",
    "import pydot\n",
    "import matplotlib.pyplot as plt\n",
    "\n",
    "def draw_graph(model):\n",
    "    pos = graphviz_layout(model, prog=\"dot\")\n",
    "    plt.figure(figsize=(10, 5))\n",
    "    nx.draw(model, with_labels=True, pos=pos, node_size=3000, node_color=\"green\")\n",
    "    plt.savefig('model.png')\n",
    "    plt.show()\n",
    "\n"
   ]
  },
  {
   "cell_type": "markdown",
   "metadata": {},
   "source": [
    "## Manual Approach"
   ]
  },
  {
   "cell_type": "code",
   "execution_count": null,
   "metadata": {
    "collapsed": false,
    "pycharm": {
     "name": "#%%\n"
    }
   },
   "outputs": [],
   "source": [
    "manual_model = BayesianNetwork([\n",
    "    (\"killsDiff\", \"blueGoldDiff\"),\n",
    "    (\"minionsDiff\", \"blueGoldDiff\"),\n",
    "    (\"minionsDiff\", \"blueExperienceDiff\"),\n",
    "    (\"towersDiff\", \"blueGoldDiff\"),\n",
    "    (\"towersDiff\", \"blueWins\"),\n",
    "    (\"blueHeralds\", \"towersDiff\"),\n",
    "    (\"redHeralds\", \"towersDiff\"),\n",
    "    (\"dragonsDiff\", \"blueWins\"),\n",
    "    (\"blueExperienceDiff\", \"blueWins\"),\n",
    "    (\"blueGoldDiff\", \"blueWins\")\n",
    "])\n",
    "draw_graph(manual_model)"
   ]
  },
  {
   "cell_type": "markdown",
   "metadata": {},
   "source": [
    "## HillClimbing Search\n"
   ]
  },
  {
   "cell_type": "code",
   "execution_count": null,
   "metadata": {},
   "outputs": [],
   "source": [
    "from pgmpy.estimators import HillClimbSearch, K2Score, ExhaustiveSearch, BicScore, BDeuScore, BDsScore, MmhcEstimator\n",
    "\n",
    "estimator = HillClimbSearch(dataset)\n",
    "\n",
    "black_list = [('blueWins', node) for node in dataset.columns[:-1]]\n",
    "hillclimb_model = estimator.estimate(\n",
    "    scoring_method=BDsScore(dataset), black_list=black_list)\n",
    "hillclimb_model = BayesianNetwork(hillclimb_model)\n",
    "draw_graph(hillclimb_model)\n"
   ]
  },
  {
   "cell_type": "markdown",
   "metadata": {},
   "source": [
    "# Parameter Estimation\n"
   ]
  },
  {
   "cell_type": "code",
   "execution_count": null,
   "metadata": {
    "collapsed": false,
    "pycharm": {
     "name": "#%%\n"
    }
   },
   "outputs": [],
   "source": [
    "from pgmpy.estimators import BayesianEstimator, MaximumLikelihoodEstimator\n",
    "\n",
    "manual_model.cpds = []\n",
    "\n",
    "manual_model.fit(data=dataset,\n",
    "            estimator=BayesianEstimator,\n",
    "            prior_type=\"BDeu\",\n",
    "            equivalent_sample_size=10,\n",
    "            complete_samples_only=False,\n",
    ")\n",
    "\n",
    "hillclimb_model.fit(data=dataset,\n",
    "            estimator=BayesianEstimator,\n",
    "            prior_type=\"BDeu\",\n",
    "            equivalent_sample_size=10,\n",
    "            complete_samples_only=False,\n",
    ")\n",
    "\n",
    "#pd.options.display.max_columns = 2000\n",
    "\n",
    "print(f\"Check model: {manual_model.check_model()=}\")\n",
    "print(f\"Check model: {hillclimb_model.check_model()=}\")\n",
    "\n",
    "\n",
    "for cpd in manual_model.get_cpds():\n",
    "    print(f\"CPT of {cpd.variable}\")\n",
    "    print(cpd)\n",
    "    pass\n"
   ]
  },
  {
   "cell_type": "markdown",
   "metadata": {},
   "source": [
    "# Inference"
   ]
  },
  {
   "cell_type": "code",
   "execution_count": null,
   "metadata": {
    "pycharm": {
     "name": "#%%\n"
    }
   },
   "outputs": [],
   "source": [
    "from pgmpy.inference import VariableElimination\n",
    "\n",
    "def queries(model):\n",
    "    model_inference = VariableElimination(model)\n",
    "\n",
    "    def print_query(target, evidence):\n",
    "        value = model_inference.query(target, evidence)\n",
    "        print(f\"P({', '.join(target)} | {', '.join([f'{k}={v}' for (k, v) in evidence.items()])}): \\n{value}\\n\")\n",
    "\n",
    "    #blueWins, blueGoldDiff, towersDiff, killsDiff, blueExperienceDiff, blueHeralds, redHeralds, minionsDiff\n",
    "\n",
    "    queries = [\n",
    "        ([\"blueWins\"], {\"blueGoldDiff\": \"Positive\"}),\n",
    "        ([\"blueWins\"], {\"blueGoldDiff\": \"Very Positive\"}),\n",
    "        ([\"blueWins\"], {\"blueGoldDiff\": \"Positive\", \"towersDiff\": \"Positive\"}),\n",
    "        ([\"blueWins\"], {\"blueGoldDiff\": \"Positive\", \"towersDiff\": \"Negative\"}),\n",
    "        #([\"blueWins\"], {\"blueGoldDiff\": \"Positive\", \"towersDiff\": \"Negative\"}),\n",
    "        ([\"blueWins\"], {\"blueGoldDiff\": \"Very Negative\", \"towersDiff\": \"Positive\", \"dragonsDiff\": \"Positive\", \"blueExperienceDiff\": \"Positive\"}),\n",
    "        ([\"blueGoldDiff\"], {\"blueWins\": 1}),\n",
    "\n",
    "        # Active v-structure\n",
    "        ([\"blueExperienceDiff\"], {\"dragonsDiff\": \"Positive\", \"blueWins\": 0}),\n",
    "        ([\"killsDiff\"], {\"blueWins\": 1}),\n",
    "\n",
    "        # Active v-structure long\n",
    "        ([\"killsDiff\"], {\"blueHeralds\": \"High\", \"blueGoldDiff\": \"Positive\"}),\n",
    "        ([\"killsDiff\"], {\"blueHeralds\": \"Low\", \"blueGoldDiff\": \"Positive\"}),\n",
    "\n",
    "        # Non active v-structure\n",
    "        ([\"killsDiff\"], {\"blueHeralds\": \"High\", \"blueGoldDiff\": \"Positive\", \"towersDiff\": \"Positive\"}),\n",
    "        ([\"killsDiff\"], {\"blueHeralds\": \"Low\", \"blueGoldDiff\": \"Positive\", \"towersDiff\": \"Positive\"}),\n",
    "    ]\n",
    "\n",
    "    \n",
    "    for query in queries:\n",
    "        print_query(*query)\n"
   ]
  },
  {
   "cell_type": "code",
   "execution_count": null,
   "metadata": {},
   "outputs": [],
   "source": [
    "print(\"Handmade model\")\n",
    "queries(manual_model)\n",
    "print(\"HillClimb model\")\n",
    "queries(hillclimb_model)\n"
   ]
  },
  {
   "cell_type": "markdown",
   "metadata": {},
   "source": [
    "# Model comparisons"
   ]
  },
  {
   "cell_type": "code",
   "execution_count": null,
   "metadata": {},
   "outputs": [],
   "source": [
    "def get_num_parameters(model): return sum(\n",
    "    [len(cpd.get_values().ravel()) for cpd in model.get_cpds()])\n",
    "\n",
    "\n",
    "bdeu_score = BDeuScore(dataset)\n",
    "\n",
    "print(\"Number of parameters in handmade network: {}\".format(\n",
    "    get_num_parameters(manual_model)))\n",
    "print(\"Number of parameters in hillclimb network: {}\".format(\n",
    "    get_num_parameters(hillclimb_model)))\n",
    "\n",
    "# N.B. the documentation for bic_score asserts that a model with a higher score fits the data better\n",
    "\n",
    "print(\"Bic score for handmade network: {}\".format(\n",
    "    bdeu_score.score(manual_model)))\n",
    "print(\"Bic score for hillclimb baseline network: {}\".format(\n",
    "    bdeu_score.score(hillclimb_model)))\n",
    "\n"
   ]
  },
  {
   "cell_type": "markdown",
   "metadata": {},
   "source": [
    "# Indipendence and Markov blanket"
   ]
  },
  {
   "cell_type": "code",
   "execution_count": null,
   "metadata": {
    "pycharm": {
     "name": "#%%\n"
    }
   },
   "outputs": [],
   "source": [
    "def active_trails_of(query, evidence, model):\n",
    "    active = model.active_trail_nodes(query, observed=evidence).get(query)\n",
    "    active.remove(query)\n",
    "    if active:\n",
    "        if evidence:\n",
    "            print(f'Active trails between \\'{query}\\' and {active} given the evidence {set(evidence)}.')\n",
    "        else:\n",
    "            print(f'Active trails between \\'{query}\\' and {active} given no evidence.')\n",
    "    else:\n",
    "        print(f'No active trails for \\'{query}\\' given the evidence {set(evidence)}.')\n",
    "\n",
    "active_trails_of(\"blueGoldDiff\", [\"blueWins\", \"towersDiff\"], manual_model)\n",
    "active_trails_of(\"blueGoldDiff\", [\"blueWins\", \"towersDiff\"], hillclimb_model)\n",
    "\n",
    "\n",
    "\n",
    "\n",
    "def markov_blanket_of(node, model):\n",
    "    print(f'Markov blanket of \\'{node}\\' is {set(model.get_markov_blanket(node))}')\n",
    "\n",
    "    return \n",
    "\n",
    "markov_blanket_of('blueGoldDiff', manual_model)\n",
    "markov_blanket_of('blueGoldDiff', hillclimb_model)\n"
   ]
  },
  {
   "cell_type": "code",
   "execution_count": null,
   "metadata": {},
   "outputs": [],
   "source": [
    "def draw_graph(model, color=\"green\", title=\"\"):\n",
    "    pos = graphviz_layout(model, prog=\"dot\")\n",
    "    plt.figure(figsize=(10, 5))\n",
    "    nx.draw(model, with_labels=True, pos=pos, node_size=3000, node_color=color)\n",
    "    plt.savefig('model.png')\n",
    "    plt.title(title)\n",
    "    plt.show()\n",
    "\n",
    "\n",
    "def draw_markov_blanket_of(node, model):\n",
    "    blanket = model.get_markov_blanket(node)\n",
    "    color = [\"yellow\" if n in blanket else \"blue\" if n == node else \"gray\" for n in model.nodes]\n",
    "\n",
    "    draw_graph(model, color, f\"Markov's blanket of {node}\")\n",
    "\n",
    "def draw_active_trail_of(query, evidence, model):\n",
    "    active = model.active_trail_nodes(query, observed=evidence).get(query)\n",
    "    active.remove(query)\n",
    "    color = [\"yellow\" if n in active else \"blue\" if n == query else \"red\" if n in evidence else \"gray\" for n in model.nodes]\n",
    "\n",
    "    draw_graph(model, color, f\"Active trail's of {query=}, evidence={', '.join(evidence)}\")\n",
    "\n",
    "def draw_indipendencies(node, model):\n",
    "    draw_active_trail_of(node, [], model)\n",
    "\n",
    "\n",
    "#draw_markov_blanket_of(\"blueGoldDiff\", manual_model)\n",
    "#draw_markov_blanket_of(\"blueHeralds\", manual_model)\n",
    "#draw_active_trail_of(\"blueGoldDiff\", [\"blueWins\", \"towersDiff\"], manual_model)\n",
    "draw_indipendencies(\"blueGoldDiff\", manual_model)\n",
    "\n",
    "#active_trails_of\n"
   ]
  },
  {
   "cell_type": "markdown",
   "metadata": {},
   "source": [
    "## Results"
   ]
  }
 ],
 "metadata": {
  "kernelspec": {
   "display_name": "Python 3.10.4 64-bit",
   "language": "python",
   "name": "python3"
  },
  "language_info": {
   "codemirror_mode": {
    "name": "ipython",
    "version": 3
   },
   "file_extension": ".py",
   "mimetype": "text/x-python",
   "name": "python",
   "nbconvert_exporter": "python",
   "pygments_lexer": "ipython3",
   "version": "3.10.4"
  },
  "vscode": {
   "interpreter": {
    "hash": "cf44e1cfd43590f45f0e2b5c28e0f46babf55befe4ad1bacdd60a06d73372734"
   }
  }
 },
 "nbformat": 4,
 "nbformat_minor": 0
}
