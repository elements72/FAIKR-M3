{
 "cells": [
  {
   "cell_type": "code",
   "execution_count": 40,
   "metadata": {
    "collapsed": true,
    "pycharm": {
     "name": "#%%\n"
    }
   },
   "outputs": [],
   "source": [
    "from pgmpy.models import BayesianNetwork\n",
    "from pgmpy.inference import VariableElimination\n",
    "from pgmpy.factors.discrete import TabularCPD"
   ]
  },
  {
   "cell_type": "code",
   "execution_count": 41,
   "metadata": {
    "collapsed": false,
    "pycharm": {
     "name": "#%%\n"
    }
   },
   "outputs": [],
   "source": [
    "model = BayesianNetwork([\n",
    "    (\"killsDiff\", \"blueGoldDiff\"),\n",
    "    (\"minionsDiff\", \"blueGoldDiff\"),\n",
    "    (\"minionsDiff\", \"blueExperienceDiff\"),\n",
    "    (\"towersDiff\", \"blueGoldDiff\"),\n",
    "    (\"towersDiff\", \"blueWins\"),\n",
    "    (\"blueHeralds\", \"towersDiff\"),\n",
    "    (\"redHeralds\", \"towersDiff\"),\n",
    "    (\"dragonsDiff\", \"blueWins\"),\n",
    "    (\"blueExperienceDiff\", \"blueWins\"),\n",
    "    (\"blueGoldDiff\", \"blueWins\")\n",
    "])"
   ]
  },
  {
   "cell_type": "code",
   "execution_count": 42,
   "metadata": {
    "collapsed": false,
    "pycharm": {
     "name": "#%%\n"
    }
   },
   "outputs": [],
   "source": [
    "import pandas as pd\n",
    "import numpy as np\n",
    "def create_dataset(path=\"high_diamond_ranked_10min.csv\"):\n",
    "    columns = [\"blueWins\", \"blueGoldDiff\", \"blueExperienceDiff\", \"blueHeralds\", \"redHeralds\"]\n",
    "    data = pd.read_csv(path)\n",
    "    dataset = data.loc[:, columns]\n",
    "    dataset[\"killsDiff\"] = data.apply(lambda row: row[\"blueKills\"]-row[\"redKills\"], axis=1)\n",
    "    dataset[\"minionsDiff\"] = data.apply(lambda row: row[\"blueTotalMinionsKilled\"]-row[\"redTotalMinionsKilled\"], axis=1)\n",
    "    dataset[\"dragonsDiff\"] = data.apply(lambda row: row[\"blueDragons\"]-row[\"redDragons\"], axis=1)\n",
    "    dataset[\"towersDiff\"] = data.apply(lambda row: row[\"blueTowersDestroyed\"]-row[\"redTowersDestroyed\"], axis=1)\n",
    "    return dataset"
   ]
  },
  {
   "cell_type": "code",
   "execution_count": 43,
   "metadata": {
    "collapsed": false,
    "pycharm": {
     "name": "#%%\n"
    }
   },
   "outputs": [],
   "source": [
    "def discretize(dataset):\n",
    "    dataset[\"killsDiff\"] = pd.cut(dataset[\"killsDiff\"], bins=[-np.inf, -2, 2, np.inf], labels=[\"Negative\", \"Neutral\", \"Positive\"], include_lowest = True)\n",
    "    dataset[\"minionsDiff\"] = pd.cut(dataset[\"minionsDiff\"], bins=[-np.inf, -15, +15, np.inf], labels=[\"Negative\", \"Neutral\", \"Positive\"], include_lowest = True)\n",
    "    dataset[\"dragonsDiff\"] = pd.cut(dataset[\"dragonsDiff\"], bins=[-np.inf, -1, 0, np.inf], labels=[\"Negative\", \"Neutral\", \"Positive\"], include_lowest = True)\n",
    "    dataset[\"towersDiff\"] = pd.cut(dataset[\"towersDiff\"], bins=[-np.inf, -1, 0, np.inf], labels=[\"Negative\", \"Neutral\", \"Positive\"], include_lowest = True)\n",
    "    dataset[\"blueGoldDiff\"] = pd.cut(dataset[\"blueGoldDiff\"], bins=[-np.inf, -1000, 1000, np.inf], labels=[\"Negative\", \"Neutral\", \"Positive\"], include_lowest = True)\n",
    "    dataset[\"blueExperienceDiff\"] = pd.cut(dataset[\"blueExperienceDiff\"], bins=[-np.inf, -500, 500, np.inf], labels=[\"Negative\", \"Neutral\", \"Positive\"], include_lowest = True)\n",
    "\n",
    "    dataset[\"blueHeralds\"] = pd.cut(dataset[\"blueHeralds\"], bins=[-1,0,np.inf], labels=[\"Low\", \"High\"], include_lowest = True)\n",
    "    dataset[\"redHeralds\"] = pd.cut(dataset[\"redHeralds\"], bins=[-1,0,np.inf], labels=[\"Low\", \"High\"], include_lowest = True)\n",
    "\n",
    "    return dataset"
   ]
  },
  {
   "cell_type": "markdown",
   "metadata": {
    "collapsed": false,
    "pycharm": {
     "name": "#%% md\n"
    }
   },
   "source": []
  },
  {
   "cell_type": "code",
   "execution_count": 44,
   "metadata": {
    "collapsed": false,
    "pycharm": {
     "name": "#%%\n"
    }
   },
   "outputs": [
    {
     "name": "stdout",
     "output_type": "stream",
     "text": [
      "0    4949\n",
      "1    4930\n",
      "Name: blueWins, dtype: int64\n",
      "Positive    3341\n",
      "Negative    3290\n",
      "Neutral     3248\n",
      "Name: blueGoldDiff, dtype: int64\n",
      "Negative    3986\n",
      "Positive    3783\n",
      "Neutral     2110\n",
      "Name: blueExperienceDiff, dtype: int64\n",
      "Low     8022\n",
      "High    1857\n",
      "Name: blueHeralds, dtype: int64\n",
      "Low     8298\n",
      "High    1581\n",
      "Name: redHeralds, dtype: int64\n",
      "Neutral     3671\n",
      "Negative    3491\n",
      "Positive    2717\n",
      "Name: killsDiff, dtype: int64\n",
      "Neutral     3769\n",
      "Negative    3189\n",
      "Positive    2921\n",
      "Name: minionsDiff, dtype: int64\n",
      "Negative    4081\n",
      "Positive    3576\n",
      "Neutral     2222\n",
      "Name: dragonsDiff, dtype: int64\n",
      "Neutral     9064\n",
      "Positive     441\n",
      "Negative     374\n",
      "Name: towersDiff, dtype: int64\n"
     ]
    }
   ],
   "source": [
    "dataset = create_dataset()\n",
    "dataset = discretize(dataset)\n",
    "dataset.head()\n",
    "\n",
    "for column in dataset:\n",
    "    print(pd.value_counts(dataset[column]))\n",
    "\n"
   ]
  },
  {
   "cell_type": "code",
   "execution_count": 45,
   "metadata": {
    "collapsed": false,
    "pycharm": {
     "name": "#%%\n"
    }
   },
   "outputs": [
    {
     "data": {
      "text/html": [
       "<style>div.output_area pre {white-space: pre;}</style>"
      ],
      "text/plain": [
       "<IPython.core.display.HTML object>"
      ]
     },
     "metadata": {},
     "output_type": "display_data"
    },
    {
     "name": "stdout",
     "output_type": "stream",
     "text": [
      "Check model: model.check_model()=True\n",
      "CPT of killsDiff\n",
      "+---------------------+----------+\n",
      "| killsDiff(Negative) | 0.353356 |\n",
      "+---------------------+----------+\n",
      "| killsDiff(Neutral)  | 0.371558 |\n",
      "+---------------------+----------+\n",
      "| killsDiff(Positive) | 0.275087 |\n",
      "+---------------------+----------+\n",
      "CPT of blueGoldDiff\n",
      "+------------------------+-----+-----------------------+\n",
      "| killsDiff              | ... | killsDiff(Positive)   |\n",
      "+------------------------+-----+-----------------------+\n",
      "| minionsDiff            | ... | minionsDiff(Positive) |\n",
      "+------------------------+-----+-----------------------+\n",
      "| towersDiff             | ... | towersDiff(Positive)  |\n",
      "+------------------------+-----+-----------------------+\n",
      "| blueGoldDiff(Negative) | ... | 0.0006806888571234089 |\n",
      "+------------------------+-----+-----------------------+\n",
      "| blueGoldDiff(Neutral)  | ... | 0.0006806888571234089 |\n",
      "+------------------------+-----+-----------------------+\n",
      "| blueGoldDiff(Positive) | ... | 0.9986386222857532    |\n",
      "+------------------------+-----+-----------------------+\n",
      "CPT of minionsDiff\n",
      "+-----------------------+----------+\n",
      "| minionsDiff(Negative) | 0.322817 |\n",
      "+-----------------------+----------+\n",
      "| minionsDiff(Neutral)  | 0.381468 |\n",
      "+-----------------------+----------+\n",
      "| minionsDiff(Positive) | 0.295716 |\n",
      "+-----------------------+----------+\n",
      "CPT of blueExperienceDiff\n",
      "+------------------------------+-----+-----------------------+\n",
      "| minionsDiff                  | ... | minionsDiff(Positive) |\n",
      "+------------------------------+-----+-----------------------+\n",
      "| blueExperienceDiff(Negative) | ... | 0.12177514343250125   |\n",
      "+------------------------------+-----+-----------------------+\n",
      "| blueExperienceDiff(Neutral)  | ... | 0.20042554808313387   |\n",
      "+------------------------------+-----+-----------------------+\n",
      "| blueExperienceDiff(Positive) | ... | 0.677799308484365     |\n",
      "+------------------------------+-----+-----------------------+\n",
      "CPT of towersDiff\n",
      "+----------------------+-----+----------------------+\n",
      "| blueHeralds          | ... | blueHeralds(Low)     |\n",
      "+----------------------+-----+----------------------+\n",
      "| redHeralds           | ... | redHeralds(Low)      |\n",
      "+----------------------+-----+----------------------+\n",
      "| towersDiff(Negative) | ... | 0.01921833372132123  |\n",
      "+----------------------+-----+----------------------+\n",
      "| towersDiff(Neutral)  | ... | 0.9586146245570473   |\n",
      "+----------------------+-----+----------------------+\n",
      "| towersDiff(Positive) | ... | 0.022167041721631624 |\n",
      "+----------------------+-----+----------------------+\n",
      "CPT of blueWins\n",
      "+--------------------+-----+------------------------------+\n",
      "| blueExperienceDiff | ... | blueExperienceDiff(Positive) |\n",
      "+--------------------+-----+------------------------------+\n",
      "| blueGoldDiff       | ... | blueGoldDiff(Positive)       |\n",
      "+--------------------+-----+------------------------------+\n",
      "| dragonsDiff        | ... | dragonsDiff(Positive)        |\n",
      "+--------------------+-----+------------------------------+\n",
      "| towersDiff         | ... | towersDiff(Positive)         |\n",
      "+--------------------+-----+------------------------------+\n",
      "| blueWins(0)        | ... | 0.07676593069851498          |\n",
      "+--------------------+-----+------------------------------+\n",
      "| blueWins(1)        | ... | 0.9232340693014851           |\n",
      "+--------------------+-----+------------------------------+\n",
      "CPT of blueHeralds\n",
      "+-------------------+---------+\n",
      "| blueHeralds(High) | 0.18829 |\n",
      "+-------------------+---------+\n",
      "| blueHeralds(Low)  | 0.81171 |\n",
      "+-------------------+---------+\n",
      "CPT of redHeralds\n",
      "+------------------+---------+\n",
      "| redHeralds(High) | 0.16038 |\n",
      "+------------------+---------+\n",
      "| redHeralds(Low)  | 0.83962 |\n",
      "+------------------+---------+\n",
      "CPT of dragonsDiff\n",
      "+-----------------------+----------+\n",
      "| dragonsDiff(Negative) | 0.413018 |\n",
      "+-----------------------+----------+\n",
      "| dragonsDiff(Neutral)  | 0.225031 |\n",
      "+-----------------------+----------+\n",
      "| dragonsDiff(Positive) | 0.361951 |\n",
      "+-----------------------+----------+\n"
     ]
    }
   ],
   "source": [
    "from pgmpy.estimators import BayesianEstimator, MaximumLikelihoodEstimator\n",
    "from IPython.display import display, HTML\n",
    "\n",
    "display(HTML(\"<style>div.output_area pre {white-space: pre;}</style>\"))\n",
    "\n",
    "model.cpds = []\n",
    "\n",
    "model.fit(data=dataset,\n",
    "            estimator=BayesianEstimator,\n",
    "            prior_type=\"BDeu\",\n",
    "            equivalent_sample_size=10,\n",
    "            complete_samples_only=False,\n",
    ")\n",
    "pd.options.display.max_columns = 2000\n",
    "\n",
    "print(f\"Check model: {model.check_model()=}\")\n",
    "\n",
    "for cpd in model.get_cpds():\n",
    "    print(f\"CPT of {cpd.variable}\")\n",
    "    print(cpd)\n",
    "\n"
   ]
  },
  {
   "cell_type": "code",
   "execution_count": 46,
   "metadata": {},
   "outputs": [
    {
     "name": "stdout",
     "output_type": "stream",
     "text": [
      "__________________________________________________________\n",
      "__________________________________________________________\n",
      "+-------------+-----------------+\n",
      "| blueWins    |   phi(blueWins) |\n",
      "+=============+=================+\n",
      "| blueWins(0) |          0.4525 |\n",
      "+-------------+-----------------+\n",
      "| blueWins(1) |          0.5475 |\n",
      "+-------------+-----------------+\n",
      "__________________________________________________________\n",
      "+-------------+-----------------+\n",
      "| blueWins    |   phi(blueWins) |\n",
      "+=============+=================+\n",
      "| blueWins(0) |          0.4525 |\n",
      "+-------------+-----------------+\n",
      "| blueWins(1) |          0.5475 |\n",
      "+-------------+-----------------+\n",
      "+-------------+-----------------+\n",
      "| blueWins    |   phi(blueWins) |\n",
      "+=============+=================+\n",
      "| blueWins(0) |          0.3368 |\n",
      "+-------------+-----------------+\n",
      "| blueWins(1) |          0.6632 |\n",
      "+-------------+-----------------+\n",
      "+-------------+-----------------+\n",
      "| blueWins    |   phi(blueWins) |\n",
      "+=============+=================+\n",
      "| blueWins(0) |          0.2333 |\n",
      "+-------------+-----------------+\n",
      "| blueWins(1) |          0.7667 |\n",
      "+-------------+-----------------+\n"
     ]
    }
   ],
   "source": [
    "from pgmpy.inference import VariableElimination\n",
    "\n",
    "model_inference = VariableElimination(model)\n",
    "\n",
    "#print(model_inference.query([\"blueWins\"], {\"blueGoldDiff\": \"Positive\", \"minionsDiff\": \"Negative\"}))\n",
    "print(\"__________________________________________________________\")\n",
    "#print(model_inference.query([\"blueWins\"], {\"blueGoldDiff\": \"Positive\", \"minionsDiff\": \"Negative\", \"killsDiff\": \"Negative\"}))\n",
    "print(\"__________________________________________________________\")\n",
    "print(model_inference.query([\"blueWins\"], {\"blueGoldDiff\": \"Positive\", \"minionsDiff\": \"Negative\", \"killsDiff\": \"Negative\", \"towersDiff\": \"Negative\"}))\n",
    "print(\"__________________________________________________________\")\n",
    "print(model_inference.query([\"blueWins\"], {\"blueGoldDiff\": \"Positive\", \"minionsDiff\": \"Negative\", \"killsDiff\": \"Positive\", \"towersDiff\": \"Negative\"}))\n",
    "print(model_inference.query([\"blueWins\"], {\"blueGoldDiff\": \"Positive\", \"minionsDiff\": \"Negative\", \"killsDiff\": \"Positive\", \"towersDiff\": \"Positive\"}))\n",
    "print(model_inference.query([\"blueWins\"], {\"blueGoldDiff\": \"Positive\", \"minionsDiff\": \"Positive\", \"killsDiff\": \"Positive\", \"towersDiff\": \"Positive\"}))\n",
    "\n",
    "\n"
   ]
  },
  {
   "cell_type": "code",
   "execution_count": 52,
   "metadata": {},
   "outputs": [
    {
     "name": "stdout",
     "output_type": "stream",
     "text": [
      "+------------------------+---------------------+\n",
      "| blueGoldDiff           |   phi(blueGoldDiff) |\n",
      "+========================+=====================+\n",
      "| blueGoldDiff(Negative) |              0.0299 |\n",
      "+------------------------+---------------------+\n",
      "| blueGoldDiff(Neutral)  |              0.2657 |\n",
      "+------------------------+---------------------+\n",
      "| blueGoldDiff(Positive) |              0.7045 |\n",
      "+------------------------+---------------------+\n"
     ]
    }
   ],
   "source": [
    "print(model_inference.query([\"blueGoldDiff\"], {\"blueWins\": 1, \"towersDiff\": \"Positive\"}))"
   ]
  },
  {
   "cell_type": "code",
   "execution_count": 58,
   "metadata": {},
   "outputs": [
    {
     "name": "stdout",
     "output_type": "stream",
     "text": [
      "Active trails between 'blueGoldDiff' and {'blueExperienceDiff', 'killsDiff', 'minionsDiff', 'dragonsDiff'} given the evidence {'blueWins', 'towersDiff'}.\n",
      "Markov blanket of 'blueGoldDiff' is {'blueWins', 'towersDiff', 'blueExperienceDiff', 'killsDiff', 'minionsDiff', 'dragonsDiff'}\n"
     ]
    }
   ],
   "source": [
    "def active_trails_of(query, evidence):\n",
    "    active = model.active_trail_nodes(query, observed=evidence).get(query)\n",
    "    active.remove(query)\n",
    "    if active:\n",
    "        if evidence:\n",
    "            print(f'Active trails between \\'{query}\\' and {active} given the evidence {set(evidence)}.')\n",
    "        else:\n",
    "            print(f'Active trails between \\'{query}\\' and {active} given no evidence.')\n",
    "    else:\n",
    "        print(f'No active trails for \\'{query}\\' given the evidence {set(evidence)}.')\n",
    "\n",
    "active_trails_of(\"blueGoldDiff\", [\"blueWins\", \"towersDiff\"])\n",
    "\n",
    "\n",
    "\n",
    "def markov_blanket_of(node):\n",
    "    print(f'Markov blanket of \\'{node}\\' is {set(model.get_markov_blanket(node))}')\n",
    "\n",
    "markov_blanket_of(node='blueGoldDiff')"
   ]
  }
 ],
 "metadata": {
  "kernelspec": {
   "display_name": "Python 3.10.4 64-bit",
   "language": "python",
   "name": "python3"
  },
  "language_info": {
   "codemirror_mode": {
    "name": "ipython",
    "version": 2
   },
   "file_extension": ".py",
   "mimetype": "text/x-python",
   "name": "python",
   "nbconvert_exporter": "python",
   "pygments_lexer": "ipython2",
   "version": "3.10.4"
  },
  "vscode": {
   "interpreter": {
    "hash": "cf44e1cfd43590f45f0e2b5c28e0f46babf55befe4ad1bacdd60a06d73372734"
   }
  }
 },
 "nbformat": 4,
 "nbformat_minor": 0
}
