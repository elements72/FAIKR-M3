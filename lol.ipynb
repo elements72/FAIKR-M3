{
 "cells": [
  {
   "cell_type": "code",
   "execution_count": 40,
   "metadata": {
    "collapsed": true,
    "pycharm": {
     "name": "#%%\n"
    }
   },
   "outputs": [],
   "source": [
    "from pgmpy.models import BayesianNetwork\n",
    "from pgmpy.inference import VariableElimination\n",
    "from pgmpy.factors.discrete import TabularCPD"
   ]
  },
  {
   "cell_type": "code",
   "execution_count": 41,
   "metadata": {
    "collapsed": false,
    "pycharm": {
     "name": "#%%\n"
    }
   },
   "outputs": [],
   "source": [
    "model = BayesianNetwork([\n",
    "    (\"killsDiff\", \"blueGoldDiff\"),\n",
    "    (\"minionsDiff\", \"blueGoldDiff\"),\n",
    "    (\"minionsDiff\", \"blueExperienceDiff\"),\n",
    "    (\"towersDiff\", \"blueGoldDiff\"),\n",
    "    (\"towersDiff\", \"blueWins\"),\n",
    "    (\"blueHeralds\", \"towersDiff\"),\n",
    "    (\"redHeralds\", \"towersDiff\"),\n",
    "    (\"dragonsDiff\", \"blueWins\"),\n",
    "    (\"blueExperienceDiff\", \"blueWins\"),\n",
    "    (\"blueGoldDiff\", \"blueWins\")\n",
    "])"
   ]
  },
  {
   "cell_type": "markdown",
   "source": [
    "## Dataset\n",
    "First we load and preprocess the dataset.\n",
    "The feature of the dataset are:\n",
    " 1. blueWins: **1** blue teams wins **0** red team wins, there is no draw\n",
    " 2. goldDiff: gold difference between the two teams. It is measure of how much a team is in advantage\n",
    " 3. expDiff: experience difference between the two teams. Another measure of how much a team is in advantage\n",
    " 4. killsDiff: compute as \"bluesKills\" - \"blueDeaths\", is the difference between the kills and the deaths of the blue team\n",
    " 5. minionsDiff: computed as \"blueTotalMinionsKilled\" - \"redTotalMinionsKilled\", is the difference between the minions killed by the two teams\n",
    " 6. towersDiff: computed as \"blueTowersDestroyed\" - \"redTowersDestroyed\". Towers are fortifications which defends the teams. The destruction of the towers is crucial to have an advantage\n",
    " 7. dragonsDiff: computed as \"blueDragons\" - \"redDragons\". Dragons are enemies scattered in the map. Killing a dragon gives to the team additional stats.\n",
    " 8. blueHeralds: Herald are enemies scattered in the map. Killing a Herald gives to the team a friendly minion which is very effective against the enemies tower.\n",
    " 9. redHeralds: same as above."
   ],
   "metadata": {
    "collapsed": false,
    "pycharm": {
     "name": "#%% md\n"
    }
   }
  },
  {
   "cell_type": "code",
   "execution_count": 42,
   "metadata": {
    "collapsed": false,
    "pycharm": {
     "name": "#%%\n"
    }
   },
   "outputs": [],
   "source": [
    "import pandas as pd\n",
    "import numpy as np\n",
    "def create_dataset(path=\"high_diamond_ranked_10min.csv\"):\n",
    "    columns = [\"blueWins\", \"blueGoldDiff\", \"blueExperienceDiff\", \"blueHeralds\", \"redHeralds\"]\n",
    "    data = pd.read_csv(path)\n",
    "    dataset = data.loc[:, columns]\n",
    "    dataset[\"killsDiff\"] = data.apply(lambda row: row[\"blueKills\"]-row[\"redKills\"], axis=1)\n",
    "    dataset[\"minionsDiff\"] = data.apply(lambda row: row[\"blueTotalMinionsKilled\"]-row[\"redTotalMinionsKilled\"], axis=1)\n",
    "    dataset[\"dragonsDiff\"] = data.apply(lambda row: row[\"blueDragons\"]-row[\"redDragons\"], axis=1)\n",
    "    dataset[\"towersDiff\"] = data.apply(lambda row: row[\"blueTowersDestroyed\"]-row[\"redTowersDestroyed\"], axis=1)\n",
    "    return dataset"
   ]
  },
  {
   "cell_type": "code",
   "execution_count": null,
   "outputs": [],
   "source": [
    "def discretize(dataset):\n",
    "    dataset[\"killsDiff\"] = pd.cut(dataset[\"killsDiff\"], bins=[-np.inf, -2, 2, np.inf], labels=[\"Negative\", \"Neutral\", \"Positive\"], include_lowest = True)\n",
    "    dataset[\"minionsDiff\"] = pd.cut(dataset[\"minionsDiff\"], bins=[-np.inf, -15, +15, np.inf], labels=[\"Negative\", \"Neutral\", \"Positive\"], include_lowest = True)\n",
    "    dataset[\"dragonsDiff\"] = pd.cut(dataset[\"dragonsDiff\"], bins=[-np.inf, -1, 0, np.inf], labels=[\"Negative\", \"Neutral\", \"Positive\"], include_lowest = True)\n",
    "    dataset[\"towersDiff\"] = pd.cut(dataset[\"towersDiff\"], bins=[-np.inf, -1, 0, np.inf], labels=[\"Negative\", \"Neutral\", \"Positive\"], include_lowest = True)\n",
    "    dataset[\"blueGoldDiff\"] = pd.cut(dataset[\"blueGoldDiff\"], bins=[-np.inf, -1000, 1000, np.inf], labels=[\"Negative\", \"Neutral\", \"Positive\"], include_lowest = True)\n",
    "    dataset[\"blueExperienceDiff\"] = pd.cut(dataset[\"blueExperienceDiff\"], bins=[-np.inf, -500, 500, np.inf], labels=[\"Negative\", \"Neutral\", \"Positive\"], include_lowest = True)\n",
    "\n",
    "    dataset[\"blueHeralds\"] = pd.cut(dataset[\"blueHeralds\"], bins=[-1,0,np.inf], labels=[\"Low\", \"High\"], include_lowest = True)\n",
    "    dataset[\"redHeralds\"] = pd.cut(dataset[\"redHeralds\"], bins=[-1,0,np.inf], labels=[\"Low\", \"High\"], include_lowest = True)\n",
    "\n",
    "    return dataset"
   ],
   "metadata": {
    "collapsed": false,
    "pycharm": {
     "name": "#%%\n"
    }
   }
  },
  {
   "cell_type": "markdown",
   "source": [],
   "metadata": {
    "collapsed": false,
    "pycharm": {
     "name": "#%% md\n"
    }
   }
  },
  {
   "cell_type": "code",
   "execution_count": null,
   "outputs": [],
   "source": [
    "dataset = create_dataset()\n",
    "dataset = discretize(dataset)\n",
    "dataset.head()\n",
    "\n",
    "for column in dataset:\n",
    "    print(pd.value_counts(dataset[column]))\n",
    "\n"
   ],
   "metadata": {
    "collapsed": false,
    "pycharm": {
     "name": "#%%\n"
    }
   }
  },
  {
   "cell_type": "code",
   "execution_count": null,
   "outputs": [],
   "source": [
    "from pgmpy.estimators import BayesianEstimator, MaximumLikelihoodEstimator\n",
    "from IPython.display import display, HTML\n",
    "\n",
    "display(HTML(\"<style>div.output_area pre {white-space: pre;}</style>\"))\n",
    "\n",
    "model.cpds = []\n",
    "\n",
    "model.fit(data=dataset,\n",
    "            estimator=BayesianEstimator,\n",
    "            prior_type=\"BDeu\",\n",
    "            equivalent_sample_size=10,\n",
    "            complete_samples_only=False,\n",
    ")\n",
    "pd.options.display.max_columns = 2000\n",
    "\n",
    "print(f\"Check model: {model.check_model()=}\")\n",
    "\n",
    "for cpd in model.get_cpds():\n",
    "    print(f\"CPT of {cpd.variable}\")\n",
    "    print(cpd)\n",
    "\n"
   ],
   "metadata": {
    "collapsed": false,
    "pycharm": {
     "name": "#%%\n"
    }
   }
  },
  {
   "cell_type": "code",
   "execution_count": null,
   "outputs": [],
   "source": [
    "from pgmpy.inference import VariableElimination\n",
    "\n",
    "model_inference = VariableElimination(model)\n",
    "\n",
    "#print(model_inference.query([\"blueWins\"], {\"blueGoldDiff\": \"Positive\", \"minionsDiff\": \"Negative\"}))\n",
    "print(\"__________________________________________________________\")\n",
    "#print(model_inference.query([\"blueWins\"], {\"blueGoldDiff\": \"Positive\", \"minionsDiff\": \"Negative\", \"killsDiff\": \"Negative\"}))\n",
    "print(\"__________________________________________________________\")\n",
    "print(model_inference.query([\"blueWins\"], {\"blueGoldDiff\": \"Positive\", \"minionsDiff\": \"Negative\", \"killsDiff\": \"Negative\", \"towersDiff\": \"Negative\"}))\n",
    "print(\"__________________________________________________________\")\n",
    "print(model_inference.query([\"blueWins\"], {\"blueGoldDiff\": \"Positive\", \"minionsDiff\": \"Negative\", \"killsDiff\": \"Positive\", \"towersDiff\": \"Negative\"}))\n",
    "print(model_inference.query([\"blueWins\"], {\"blueGoldDiff\": \"Positive\", \"minionsDiff\": \"Negative\", \"killsDiff\": \"Positive\", \"towersDiff\": \"Positive\"}))\n",
    "print(model_inference.query([\"blueWins\"], {\"blueGoldDiff\": \"Positive\", \"minionsDiff\": \"Positive\", \"killsDiff\": \"Positive\", \"towersDiff\": \"Positive\"}))\n",
    "\n",
    "\n"
   ],
   "metadata": {
    "collapsed": false,
    "pycharm": {
     "name": "#%%\n"
    }
   }
  },
  {
   "cell_type": "code",
   "execution_count": null,
   "outputs": [],
   "source": [
    "print(model_inference.query([\"blueGoldDiff\"], {\"blueWins\": 1, \"towersDiff\": \"Positive\"}))"
   ],
   "metadata": {
    "collapsed": false,
    "pycharm": {
     "name": "#%%\n"
    }
   }
  },
  {
   "cell_type": "code",
   "execution_count": null,
   "outputs": [],
   "source": [
    "def active_trails_of(query, evidence):\n",
    "    active = model.active_trail_nodes(query, observed=evidence).get(query)\n",
    "    active.remove(query)\n",
    "    if active:\n",
    "        if evidence:\n",
    "            print(f'Active trails between \\'{query}\\' and {active} given the evidence {set(evidence)}.')\n",
    "        else:\n",
    "            print(f'Active trails between \\'{query}\\' and {active} given no evidence.')\n",
    "    else:\n",
    "        print(f'No active trails for \\'{query}\\' given the evidence {set(evidence)}.')\n",
    "\n",
    "active_trails_of(\"blueGoldDiff\", [\"blueWins\", \"towersDiff\"])\n",
    "\n",
    "\n",
    "\n",
    "def markov_blanket_of(node):\n",
    "    print(f'Markov blanket of \\'{node}\\' is {set(model.get_markov_blanket(node))}')\n",
    "\n",
    "markov_blanket_of(node='blueGoldDiff')"
   ],
   "metadata": {
    "collapsed": false,
    "pycharm": {
     "name": "#%%\n"
    }
   }
  },
  {
   "cell_type": "code",
   "execution_count": 46,
   "metadata": {
    "pycharm": {
     "name": "#%%\n"
    }
   },
   "outputs": [
    {
     "name": "stdout",
     "output_type": "stream",
     "text": [
      "__________________________________________________________\n",
      "__________________________________________________________\n",
      "+-------------+-----------------+\n",
      "| blueWins    |   phi(blueWins) |\n",
      "+=============+=================+\n",
      "| blueWins(0) |          0.4525 |\n",
      "+-------------+-----------------+\n",
      "| blueWins(1) |          0.5475 |\n",
      "+-------------+-----------------+\n",
      "__________________________________________________________\n",
      "+-------------+-----------------+\n",
      "| blueWins    |   phi(blueWins) |\n",
      "+=============+=================+\n",
      "| blueWins(0) |          0.4525 |\n",
      "+-------------+-----------------+\n",
      "| blueWins(1) |          0.5475 |\n",
      "+-------------+-----------------+\n",
      "+-------------+-----------------+\n",
      "| blueWins    |   phi(blueWins) |\n",
      "+=============+=================+\n",
      "| blueWins(0) |          0.3368 |\n",
      "+-------------+-----------------+\n",
      "| blueWins(1) |          0.6632 |\n",
      "+-------------+-----------------+\n",
      "+-------------+-----------------+\n",
      "| blueWins    |   phi(blueWins) |\n",
      "+=============+=================+\n",
      "| blueWins(0) |          0.2333 |\n",
      "+-------------+-----------------+\n",
      "| blueWins(1) |          0.7667 |\n",
      "+-------------+-----------------+\n"
     ]
    }
   ],
   "source": [
    "from pgmpy.inference import VariableElimination\n",
    "\n",
    "model_inference = VariableElimination(model)\n",
    "\n",
    "#print(model_inference.query([\"blueWins\"], {\"blueGoldDiff\": \"Positive\", \"minionsDiff\": \"Negative\"}))\n",
    "print(\"__________________________________________________________\")\n",
    "#print(model_inference.query([\"blueWins\"], {\"blueGoldDiff\": \"Positive\", \"minionsDiff\": \"Negative\", \"killsDiff\": \"Negative\"}))\n",
    "print(\"__________________________________________________________\")\n",
    "print(model_inference.query([\"blueWins\"], {\"blueGoldDiff\": \"Positive\", \"minionsDiff\": \"Negative\", \"killsDiff\": \"Negative\", \"towersDiff\": \"Negative\"}))\n",
    "print(\"__________________________________________________________\")\n",
    "print(model_inference.query([\"blueWins\"], {\"blueGoldDiff\": \"Positive\", \"minionsDiff\": \"Negative\", \"killsDiff\": \"Positive\", \"towersDiff\": \"Negative\"}))\n",
    "print(model_inference.query([\"blueWins\"], {\"blueGoldDiff\": \"Positive\", \"minionsDiff\": \"Negative\", \"killsDiff\": \"Positive\", \"towersDiff\": \"Positive\"}))\n",
    "print(model_inference.query([\"blueWins\"], {\"blueGoldDiff\": \"Positive\", \"minionsDiff\": \"Positive\", \"killsDiff\": \"Positive\", \"towersDiff\": \"Positive\"}))\n",
    "\n",
    "\n"
   ]
  },
  {
   "cell_type": "code",
   "execution_count": 52,
   "metadata": {
    "pycharm": {
     "name": "#%%\n"
    }
   },
   "outputs": [
    {
     "name": "stdout",
     "output_type": "stream",
     "text": [
      "+------------------------+---------------------+\n",
      "| blueGoldDiff           |   phi(blueGoldDiff) |\n",
      "+========================+=====================+\n",
      "| blueGoldDiff(Negative) |              0.0299 |\n",
      "+------------------------+---------------------+\n",
      "| blueGoldDiff(Neutral)  |              0.2657 |\n",
      "+------------------------+---------------------+\n",
      "| blueGoldDiff(Positive) |              0.7045 |\n",
      "+------------------------+---------------------+\n"
     ]
    }
   ],
   "source": [
    "print(model_inference.query([\"blueGoldDiff\"], {\"blueWins\": 1, \"towersDiff\": \"Positive\"}))"
   ]
  },
  {
   "cell_type": "code",
   "execution_count": 58,
   "metadata": {
    "pycharm": {
     "name": "#%%\n"
    }
   },
   "outputs": [
    {
     "name": "stdout",
     "output_type": "stream",
     "text": [
      "Active trails between 'blueGoldDiff' and {'blueExperienceDiff', 'killsDiff', 'minionsDiff', 'dragonsDiff'} given the evidence {'blueWins', 'towersDiff'}.\n",
      "Markov blanket of 'blueGoldDiff' is {'blueWins', 'towersDiff', 'blueExperienceDiff', 'killsDiff', 'minionsDiff', 'dragonsDiff'}\n"
     ]
    }
   ],
   "source": [
    "def active_trails_of(query, evidence):\n",
    "    active = model.active_trail_nodes(query, observed=evidence).get(query)\n",
    "    active.remove(query)\n",
    "    if active:\n",
    "        if evidence:\n",
    "            print(f'Active trails between \\'{query}\\' and {active} given the evidence {set(evidence)}.')\n",
    "        else:\n",
    "            print(f'Active trails between \\'{query}\\' and {active} given no evidence.')\n",
    "    else:\n",
    "        print(f'No active trails for \\'{query}\\' given the evidence {set(evidence)}.')\n",
    "\n",
    "active_trails_of(\"blueGoldDiff\", [\"blueWins\", \"towersDiff\"])\n",
    "\n",
    "\n",
    "\n",
    "def markov_blanket_of(node):\n",
    "    print(f'Markov blanket of \\'{node}\\' is {set(model.get_markov_blanket(node))}')\n",
    "\n",
    "markov_blanket_of(node='blueGoldDiff')"
   ]
  }
 ],
 "metadata": {
  "kernelspec": {
   "display_name": "Python 3.10.4 64-bit",
   "language": "python",
   "name": "python3"
  },
  "language_info": {
   "codemirror_mode": {
    "name": "ipython",
    "version": 2
   },
   "file_extension": ".py",
   "mimetype": "text/x-python",
   "name": "python",
   "nbconvert_exporter": "python",
   "pygments_lexer": "ipython2",
   "version": "3.10.4"
  },
  "vscode": {
   "interpreter": {
    "hash": "cf44e1cfd43590f45f0e2b5c28e0f46babf55befe4ad1bacdd60a06d73372734"
   }
  }
 },
 "nbformat": 4,
 "nbformat_minor": 0
}