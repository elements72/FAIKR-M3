{
 "cells": [
  {
   "cell_type": "markdown",
   "metadata": {},
   "source": [
    "## Introduction\n",
    "League of legends is an online game in which two teams composed of five players each battles one another. The goal of the game is to destroy a structure situated in the enemy base and therefore there's no possibility of a draw. Games usually last about 25 to 30 minutes and during that time there are a series of events which can change the balance between the two teams: kills, towers destroyed, dragon taken and so on.\n",
    "\n",
    "The aim of this project is to analyze, using a bayesian network, how the differents stats taken at the 10 minute mark of a game influence the final win.\n",
    "\n"
   ]
  },
  {
   "cell_type": "code",
   "execution_count": 203,
   "metadata": {
    "collapsed": true,
    "pycharm": {
     "name": "#%%\n"
    }
   },
   "outputs": [],
   "source": [
    "from pgmpy.models import BayesianNetwork\n",
    "from pgmpy.inference import VariableElimination\n",
    "from pgmpy.factors.discrete import TabularCPD\n",
    "from pgmpy.estimators import BicScore\n"
   ]
  },
  {
   "cell_type": "code",
   "execution_count": 204,
   "metadata": {},
   "outputs": [],
   "source": [
    "import pandas as pd\n",
    "import numpy as np\n",
    "import seaborn as sns\n",
    "import matplotlib.pyplot as plt"
   ]
  },
  {
   "cell_type": "markdown",
   "metadata": {
    "collapsed": false,
    "pycharm": {
     "name": "#%% md\n"
    }
   },
   "source": [
    "## Dataset\n",
    "The dataset used could be found [here](https://www.kaggle.com/datasets/bobbyscience/league-of-legends-diamond-ranked-games-10-min).\n",
    "This dataset contains the first 10min. stats of approx. 10k ranked games from a high ELO (DIAMOND I to MASTER). Players have roughly the same level.\n",
    "There are 19 features per team (38 in total) collected after 10min in-game. This includes kills, deaths, gold, experience, level...\n",
    "\n",
    "The column blueWins is the target value. A value of 1 means the blue team has won. 0 otherwise.\n",
    "\n",
    "With the dataset there is also a nice analysis of data [here](https://www.kaggle.com/code/xiyuewang/lol-how-to-win).\n",
    "\n",
    "For our purposes we decide to use as features, and aleatory variables, the differences between the two teams in differents statistics of the game.\n",
    "\n",
    "The feature computed from the dataset are:\n",
    " 1. blueWins: **1** blue teams wins **0** red team wins, there is no draw\n",
    " 2. goldDiff: gold difference between the two teams. It is measure of how much a team is in advantage\n",
    " 3. expDiff: experience difference between the two teams. Another measure of how much a team is in advantage\n",
    " 4. killsDiff: compute as \"bluesKills\" - \"blueDeaths\", is the difference between the kills and the deaths of the blue team\n",
    " 5. minionsDiff: computed as \"blueTotalMinionsKilled\" - \"redTotalMinionsKilled\", is the difference between the minions killed by the two teams\n",
    " 6. towersDiff: computed as \"blueTowersDestroyed\" - \"redTowersDestroyed\". Towers are fortifications which defends the teams. The destruction of the towers is crucial to have an advantage\n",
    " 7. dragonsDiff: computed as \"blueDragons\" - \"redDragons\". Dragons are enemies scattered in the map. Killing a dragon gives to the team additional stats.\n",
    " 8. blueHeralds: Herald are enemies scattered in the map. Killing a Herald gives to the team a friendly minion which is very effective against the enemies tower.\n",
    " 9. redHeralds: same as above."
   ]
  },
  {
   "cell_type": "code",
   "execution_count": 205,
   "metadata": {
    "collapsed": false,
    "pycharm": {
     "name": "#%%\n"
    }
   },
   "outputs": [],
   "source": [
    "\n",
    "def create_dataset(data):\n",
    "    columns = [\"blueWins\", \"blueGoldDiff\", \"blueExperienceDiff\", \"blueHeralds\", \"redHeralds\"]\n",
    "    dataset = data.loc[:, columns]\n",
    "    dataset[\"killsDiff\"] = data.apply(lambda row: row[\"blueKills\"]-row[\"redKills\"], axis=1)\n",
    "    dataset[\"minionsDiff\"] = data.apply(lambda row: row[\"blueTotalMinionsKilled\"]-row[\"redTotalMinionsKilled\"], axis=1)\n",
    "    dataset[\"dragonsDiff\"] = data.apply(lambda row: row[\"blueDragons\"]-row[\"redDragons\"], axis=1)\n",
    "    dataset[\"towersDiff\"] = data.apply(lambda row: row[\"blueTowersDestroyed\"]-row[\"redTowersDestroyed\"], axis=1)\n",
    "    return dataset"
   ]
  },
  {
   "cell_type": "markdown",
   "metadata": {},
   "source": [
    "## Discretization\n",
    "For a simpler and more intuitive model we decided to discretize the variables using labels instead of numbers. The bucket size is based of our experience of the game."
   ]
  },
  {
   "cell_type": "code",
   "execution_count": 206,
   "metadata": {
    "collapsed": false,
    "pycharm": {
     "name": "#%%\n"
    }
   },
   "outputs": [],
   "source": [
    "def discretize(dataset):\n",
    "    dataset = dataset.copy()\n",
    "    negative_neutral_positive = [\"Negative\", \"Neutral\", \"Positive\"]\n",
    "    negative_neutral_positive_aug = [\"Very Negative\", \"Negative\", \"Neutral\", \"Positive\", \"Very Positive\"]\n",
    "\n",
    "    dataset[\"minionsDiff\"] = pd.cut(dataset[\"minionsDiff\"], bins=[-np.inf, -15, +15, np.inf], labels=negative_neutral_positive, include_lowest = True)\n",
    "    dataset[\"dragonsDiff\"] = pd.cut(dataset[\"dragonsDiff\"], bins=[-np.inf, -1, 0, np.inf], labels=negative_neutral_positive, include_lowest = True)\n",
    "    dataset[\"towersDiff\"] = pd.cut(dataset[\"towersDiff\"], bins=[-np.inf, -1, 0, np.inf], labels=negative_neutral_positive, include_lowest = True)\n",
    "    \n",
    "    \n",
    "    dataset[\"blueGoldDiff\"] = pd.cut(dataset[\"blueGoldDiff\"], bins=[-np.inf, -2500, -1000, 1000, 2500, np.inf], labels=negative_neutral_positive_aug, include_lowest = True)\n",
    "    dataset[\"blueExperienceDiff\"] = pd.cut(dataset[\"blueExperienceDiff\"], bins=[-np.inf,-1250,-500, 500, 1250, np.inf], labels=negative_neutral_positive_aug, include_lowest = True)\n",
    "    dataset[\"killsDiff\"] = pd.cut(dataset[\"killsDiff\"], bins=[-np.inf,-4, -2, 2, 4, np.inf], labels=negative_neutral_positive_aug, include_lowest = True)\n",
    "\n",
    "\n",
    "\n",
    "    dataset[\"blueHeralds\"] = pd.cut(dataset[\"blueHeralds\"], bins=[-1,0,np.inf], labels=[\"Low\", \"High\"], include_lowest = True)\n",
    "    dataset[\"redHeralds\"] = pd.cut(dataset[\"redHeralds\"], bins=[-1,0,np.inf], labels=[\"Low\", \"High\"], include_lowest = True)\n",
    "\n",
    "    return dataset"
   ]
  },
  {
   "cell_type": "code",
   "execution_count": 207,
   "metadata": {},
   "outputs": [
    {
     "data": {
      "text/html": [
       "<div>\n",
       "<style scoped>\n",
       "    .dataframe tbody tr th:only-of-type {\n",
       "        vertical-align: middle;\n",
       "    }\n",
       "\n",
       "    .dataframe tbody tr th {\n",
       "        vertical-align: top;\n",
       "    }\n",
       "\n",
       "    .dataframe thead th {\n",
       "        text-align: right;\n",
       "    }\n",
       "</style>\n",
       "<table border=\"1\" class=\"dataframe\">\n",
       "  <thead>\n",
       "    <tr style=\"text-align: right;\">\n",
       "      <th></th>\n",
       "      <th>gameId</th>\n",
       "      <th>blueWins</th>\n",
       "      <th>blueWardsPlaced</th>\n",
       "      <th>blueWardsDestroyed</th>\n",
       "      <th>blueFirstBlood</th>\n",
       "      <th>blueKills</th>\n",
       "      <th>blueDeaths</th>\n",
       "      <th>blueAssists</th>\n",
       "      <th>blueEliteMonsters</th>\n",
       "      <th>blueDragons</th>\n",
       "      <th>...</th>\n",
       "      <th>redTowersDestroyed</th>\n",
       "      <th>redTotalGold</th>\n",
       "      <th>redAvgLevel</th>\n",
       "      <th>redTotalExperience</th>\n",
       "      <th>redTotalMinionsKilled</th>\n",
       "      <th>redTotalJungleMinionsKilled</th>\n",
       "      <th>redGoldDiff</th>\n",
       "      <th>redExperienceDiff</th>\n",
       "      <th>redCSPerMin</th>\n",
       "      <th>redGoldPerMin</th>\n",
       "    </tr>\n",
       "  </thead>\n",
       "  <tbody>\n",
       "    <tr>\n",
       "      <th>0</th>\n",
       "      <td>4519157822</td>\n",
       "      <td>0</td>\n",
       "      <td>28</td>\n",
       "      <td>2</td>\n",
       "      <td>1</td>\n",
       "      <td>9</td>\n",
       "      <td>6</td>\n",
       "      <td>11</td>\n",
       "      <td>0</td>\n",
       "      <td>0</td>\n",
       "      <td>...</td>\n",
       "      <td>0</td>\n",
       "      <td>16567</td>\n",
       "      <td>6.8</td>\n",
       "      <td>17047</td>\n",
       "      <td>197</td>\n",
       "      <td>55</td>\n",
       "      <td>-643</td>\n",
       "      <td>8</td>\n",
       "      <td>19.7</td>\n",
       "      <td>1656.7</td>\n",
       "    </tr>\n",
       "    <tr>\n",
       "      <th>1</th>\n",
       "      <td>4523371949</td>\n",
       "      <td>0</td>\n",
       "      <td>12</td>\n",
       "      <td>1</td>\n",
       "      <td>0</td>\n",
       "      <td>5</td>\n",
       "      <td>5</td>\n",
       "      <td>5</td>\n",
       "      <td>0</td>\n",
       "      <td>0</td>\n",
       "      <td>...</td>\n",
       "      <td>1</td>\n",
       "      <td>17620</td>\n",
       "      <td>6.8</td>\n",
       "      <td>17438</td>\n",
       "      <td>240</td>\n",
       "      <td>52</td>\n",
       "      <td>2908</td>\n",
       "      <td>1173</td>\n",
       "      <td>24.0</td>\n",
       "      <td>1762.0</td>\n",
       "    </tr>\n",
       "    <tr>\n",
       "      <th>2</th>\n",
       "      <td>4521474530</td>\n",
       "      <td>0</td>\n",
       "      <td>15</td>\n",
       "      <td>0</td>\n",
       "      <td>0</td>\n",
       "      <td>7</td>\n",
       "      <td>11</td>\n",
       "      <td>4</td>\n",
       "      <td>1</td>\n",
       "      <td>1</td>\n",
       "      <td>...</td>\n",
       "      <td>0</td>\n",
       "      <td>17285</td>\n",
       "      <td>6.8</td>\n",
       "      <td>17254</td>\n",
       "      <td>203</td>\n",
       "      <td>28</td>\n",
       "      <td>1172</td>\n",
       "      <td>1033</td>\n",
       "      <td>20.3</td>\n",
       "      <td>1728.5</td>\n",
       "    </tr>\n",
       "    <tr>\n",
       "      <th>3</th>\n",
       "      <td>4524384067</td>\n",
       "      <td>0</td>\n",
       "      <td>43</td>\n",
       "      <td>1</td>\n",
       "      <td>0</td>\n",
       "      <td>4</td>\n",
       "      <td>5</td>\n",
       "      <td>5</td>\n",
       "      <td>1</td>\n",
       "      <td>0</td>\n",
       "      <td>...</td>\n",
       "      <td>0</td>\n",
       "      <td>16478</td>\n",
       "      <td>7.0</td>\n",
       "      <td>17961</td>\n",
       "      <td>235</td>\n",
       "      <td>47</td>\n",
       "      <td>1321</td>\n",
       "      <td>7</td>\n",
       "      <td>23.5</td>\n",
       "      <td>1647.8</td>\n",
       "    </tr>\n",
       "    <tr>\n",
       "      <th>4</th>\n",
       "      <td>4436033771</td>\n",
       "      <td>0</td>\n",
       "      <td>75</td>\n",
       "      <td>4</td>\n",
       "      <td>0</td>\n",
       "      <td>6</td>\n",
       "      <td>6</td>\n",
       "      <td>6</td>\n",
       "      <td>0</td>\n",
       "      <td>0</td>\n",
       "      <td>...</td>\n",
       "      <td>0</td>\n",
       "      <td>17404</td>\n",
       "      <td>7.0</td>\n",
       "      <td>18313</td>\n",
       "      <td>225</td>\n",
       "      <td>67</td>\n",
       "      <td>1004</td>\n",
       "      <td>-230</td>\n",
       "      <td>22.5</td>\n",
       "      <td>1740.4</td>\n",
       "    </tr>\n",
       "  </tbody>\n",
       "</table>\n",
       "<p>5 rows × 40 columns</p>\n",
       "</div>"
      ],
      "text/plain": [
       "       gameId  blueWins  blueWardsPlaced  blueWardsDestroyed  blueFirstBlood  \\\n",
       "0  4519157822         0               28                   2               1   \n",
       "1  4523371949         0               12                   1               0   \n",
       "2  4521474530         0               15                   0               0   \n",
       "3  4524384067         0               43                   1               0   \n",
       "4  4436033771         0               75                   4               0   \n",
       "\n",
       "   blueKills  blueDeaths  blueAssists  blueEliteMonsters  blueDragons  ...  \\\n",
       "0          9           6           11                  0            0  ...   \n",
       "1          5           5            5                  0            0  ...   \n",
       "2          7          11            4                  1            1  ...   \n",
       "3          4           5            5                  1            0  ...   \n",
       "4          6           6            6                  0            0  ...   \n",
       "\n",
       "   redTowersDestroyed  redTotalGold  redAvgLevel  redTotalExperience  \\\n",
       "0                   0         16567          6.8               17047   \n",
       "1                   1         17620          6.8               17438   \n",
       "2                   0         17285          6.8               17254   \n",
       "3                   0         16478          7.0               17961   \n",
       "4                   0         17404          7.0               18313   \n",
       "\n",
       "   redTotalMinionsKilled  redTotalJungleMinionsKilled  redGoldDiff  \\\n",
       "0                    197                           55         -643   \n",
       "1                    240                           52         2908   \n",
       "2                    203                           28         1172   \n",
       "3                    235                           47         1321   \n",
       "4                    225                           67         1004   \n",
       "\n",
       "   redExperienceDiff  redCSPerMin  redGoldPerMin  \n",
       "0                  8         19.7         1656.7  \n",
       "1               1173         24.0         1762.0  \n",
       "2               1033         20.3         1728.5  \n",
       "3                  7         23.5         1647.8  \n",
       "4               -230         22.5         1740.4  \n",
       "\n",
       "[5 rows x 40 columns]"
      ]
     },
     "execution_count": 207,
     "metadata": {},
     "output_type": "execute_result"
    }
   ],
   "source": [
    "path = \"high_diamond_ranked_10min.csv\"\n",
    "data = pd.read_csv(path)\n",
    "data.head()"
   ]
  },
  {
   "cell_type": "code",
   "execution_count": 208,
   "metadata": {
    "collapsed": false,
    "pycharm": {
     "name": "#%%\n"
    }
   },
   "outputs": [
    {
     "data": {
      "text/html": [
       "<div>\n",
       "<style scoped>\n",
       "    .dataframe tbody tr th:only-of-type {\n",
       "        vertical-align: middle;\n",
       "    }\n",
       "\n",
       "    .dataframe tbody tr th {\n",
       "        vertical-align: top;\n",
       "    }\n",
       "\n",
       "    .dataframe thead th {\n",
       "        text-align: right;\n",
       "    }\n",
       "</style>\n",
       "<table border=\"1\" class=\"dataframe\">\n",
       "  <thead>\n",
       "    <tr style=\"text-align: right;\">\n",
       "      <th></th>\n",
       "      <th>blueWins</th>\n",
       "      <th>blueGoldDiff</th>\n",
       "      <th>blueExperienceDiff</th>\n",
       "      <th>blueHeralds</th>\n",
       "      <th>redHeralds</th>\n",
       "      <th>killsDiff</th>\n",
       "      <th>minionsDiff</th>\n",
       "      <th>dragonsDiff</th>\n",
       "      <th>towersDiff</th>\n",
       "    </tr>\n",
       "  </thead>\n",
       "  <tbody>\n",
       "    <tr>\n",
       "      <th>0</th>\n",
       "      <td>0</td>\n",
       "      <td>Neutral</td>\n",
       "      <td>Neutral</td>\n",
       "      <td>Low</td>\n",
       "      <td>Low</td>\n",
       "      <td>Positive</td>\n",
       "      <td>Neutral</td>\n",
       "      <td>Neutral</td>\n",
       "      <td>Neutral</td>\n",
       "    </tr>\n",
       "    <tr>\n",
       "      <th>1</th>\n",
       "      <td>0</td>\n",
       "      <td>Very Negative</td>\n",
       "      <td>Negative</td>\n",
       "      <td>Low</td>\n",
       "      <td>High</td>\n",
       "      <td>Neutral</td>\n",
       "      <td>Negative</td>\n",
       "      <td>Negative</td>\n",
       "      <td>Negative</td>\n",
       "    </tr>\n",
       "    <tr>\n",
       "      <th>2</th>\n",
       "      <td>0</td>\n",
       "      <td>Negative</td>\n",
       "      <td>Negative</td>\n",
       "      <td>Low</td>\n",
       "      <td>Low</td>\n",
       "      <td>Very Negative</td>\n",
       "      <td>Negative</td>\n",
       "      <td>Positive</td>\n",
       "      <td>Neutral</td>\n",
       "    </tr>\n",
       "    <tr>\n",
       "      <th>3</th>\n",
       "      <td>0</td>\n",
       "      <td>Negative</td>\n",
       "      <td>Neutral</td>\n",
       "      <td>High</td>\n",
       "      <td>Low</td>\n",
       "      <td>Neutral</td>\n",
       "      <td>Negative</td>\n",
       "      <td>Neutral</td>\n",
       "      <td>Neutral</td>\n",
       "    </tr>\n",
       "    <tr>\n",
       "      <th>4</th>\n",
       "      <td>0</td>\n",
       "      <td>Negative</td>\n",
       "      <td>Neutral</td>\n",
       "      <td>Low</td>\n",
       "      <td>Low</td>\n",
       "      <td>Neutral</td>\n",
       "      <td>Negative</td>\n",
       "      <td>Negative</td>\n",
       "      <td>Neutral</td>\n",
       "    </tr>\n",
       "  </tbody>\n",
       "</table>\n",
       "</div>"
      ],
      "text/plain": [
       "   blueWins   blueGoldDiff blueExperienceDiff blueHeralds redHeralds  \\\n",
       "0         0        Neutral            Neutral         Low        Low   \n",
       "1         0  Very Negative           Negative         Low       High   \n",
       "2         0       Negative           Negative         Low        Low   \n",
       "3         0       Negative            Neutral        High        Low   \n",
       "4         0       Negative            Neutral         Low        Low   \n",
       "\n",
       "       killsDiff minionsDiff dragonsDiff towersDiff  \n",
       "0       Positive     Neutral     Neutral    Neutral  \n",
       "1        Neutral    Negative    Negative   Negative  \n",
       "2  Very Negative    Negative    Positive    Neutral  \n",
       "3        Neutral    Negative     Neutral    Neutral  \n",
       "4        Neutral    Negative    Negative    Neutral  "
      ]
     },
     "execution_count": 208,
     "metadata": {},
     "output_type": "execute_result"
    }
   ],
   "source": [
    "data_clean = create_dataset(data)\n",
    "dataset = discretize(data_clean)\n",
    "dataset.head()\n",
    "#for column in dataset:\n",
    "#    print(pd.value_counts(dataset[column]))\n"
   ]
  },
  {
   "cell_type": "code",
   "execution_count": 209,
   "metadata": {},
   "outputs": [
    {
     "name": "stdout",
     "output_type": "stream",
     "text": [
      "<class 'pandas.core.frame.DataFrame'>\n",
      "RangeIndex: 9879 entries, 0 to 9878\n",
      "Data columns (total 9 columns):\n",
      " #   Column              Non-Null Count  Dtype   \n",
      "---  ------              --------------  -----   \n",
      " 0   blueWins            9879 non-null   int64   \n",
      " 1   blueGoldDiff        9879 non-null   category\n",
      " 2   blueExperienceDiff  9879 non-null   category\n",
      " 3   blueHeralds         9879 non-null   category\n",
      " 4   redHeralds          9879 non-null   category\n",
      " 5   killsDiff           9879 non-null   category\n",
      " 6   minionsDiff         9879 non-null   category\n",
      " 7   dragonsDiff         9879 non-null   category\n",
      " 8   towersDiff          9879 non-null   category\n",
      "dtypes: category(8), int64(1)\n",
      "memory usage: 155.7 KB\n"
     ]
    }
   ],
   "source": [
    "dataset.info()"
   ]
  },
  {
   "cell_type": "code",
   "execution_count": 210,
   "metadata": {},
   "outputs": [
    {
     "data": {
      "text/plain": [
       "<AxesSubplot: >"
      ]
     },
     "execution_count": 210,
     "metadata": {},
     "output_type": "execute_result"
    },
    {
     "data": {
      "image/png": "[encoded data removed]",
      "text/plain": [
       "<Figure size 1600x1200 with 2 Axes>"
      ]
     },
     "metadata": {},
     "output_type": "display_data"
    }
   ],
   "source": [
    "\n",
    "# Correlation matrix\n",
    "plt.figure(figsize=(16, 12))\n",
    "sns.heatmap(data_clean.corr(),\n",
    "            cmap='YlGnBu', annot=True, fmt='.2f', vmin=0)\n"
   ]
  },
  {
   "cell_type": "markdown",
   "metadata": {},
   "source": [
    "# Bayesian networks\n",
    "Let's build our bayesian network using two different approaches:\n",
    "1. Manual approach: the net is built using our personal knoweldge of the topic\n",
    "2. Hillclimbing search: a greedy local search that starts from the DAG start (default: disconnected DAG)\n"
   ]
  },
  {
   "cell_type": "code",
   "execution_count": 211,
   "metadata": {},
   "outputs": [],
   "source": [
    "import networkx as nx\n",
    "from networkx.drawing.nx_pydot import graphviz_layout\n",
    "import pydot\n",
    "import matplotlib.pyplot as plt\n",
    "\n",
    "def draw_graph(model):\n",
    "    pos = graphviz_layout(model, prog=\"dot\")\n",
    "    plt.figure(figsize=(10, 5))\n",
    "    nx.draw(model, with_labels=True, pos=pos, node_size=3000, node_color=\"green\")\n",
    "    plt.savefig('model.png')\n",
    "    plt.show()\n",
    "\n"
   ]
  },
  {
   "cell_type": "markdown",
   "metadata": {},
   "source": [
    "## Manual Approach"
   ]
  },
  {
   "cell_type": "code",
   "execution_count": 212,
   "metadata": {
    "collapsed": false,
    "pycharm": {
     "name": "#%%\n"
    }
   },
   "outputs": [
    {
     "data": {
      "image/png": "[encoded data removed]",
      "text/plain": [
       "<Figure size 1000x500 with 1 Axes>"
      ]
     },
     "metadata": {},
     "output_type": "display_data"
    }
   ],
   "source": [
    "manual_model = BayesianNetwork([\n",
    "    (\"killsDiff\", \"blueGoldDiff\"),\n",
    "    (\"minionsDiff\", \"blueGoldDiff\"),\n",
    "    (\"minionsDiff\", \"blueExperienceDiff\"),\n",
    "    (\"towersDiff\", \"blueGoldDiff\"),\n",
    "    (\"towersDiff\", \"blueWins\"),\n",
    "    (\"blueHeralds\", \"towersDiff\"),\n",
    "    (\"redHeralds\", \"towersDiff\"),\n",
    "    (\"dragonsDiff\", \"blueWins\"),\n",
    "    (\"blueExperienceDiff\", \"blueWins\"),\n",
    "    (\"blueGoldDiff\", \"blueWins\")\n",
    "])\n",
    "draw_graph(model)\n"
   ]
  },
  {
   "cell_type": "markdown",
   "metadata": {},
   "source": [
    "## HillClimbing Search\n"
   ]
  },
  {
   "cell_type": "code",
   "execution_count": 213,
   "metadata": {},
   "outputs": [
    {
     "data": {
      "application/vnd.jupyter.widget-view+json": {
       "model_id": "cdb5142c8d444f9b8d627cada8a826ea",
       "version_major": 2,
       "version_minor": 0
      },
      "text/plain": [
       "  0%|          | 0/1000000 [00:00<?, ?it/s]"
      ]
     },
     "metadata": {},
     "output_type": "display_data"
    },
    {
     "data": {
      "image/png": "[encoded data removed]",
      "text/plain": [
       "<Figure size 1000x500 with 1 Axes>"
      ]
     },
     "metadata": {},
     "output_type": "display_data"
    }
   ],
   "source": [
    "from pgmpy.estimators import HillClimbSearch, K2Score, ExhaustiveSearch, BicScore, BDeuScore, BDsScore, MmhcEstimator\n",
    "\n",
    "estimator = HillClimbSearch(dataset)\n",
    "\n",
    "black_list = [('blueWins', node) for node in dataset.columns[:-1]]\n",
    "hillclimb_model = estimator.estimate(\n",
    "    scoring_method=BDsScore(dataset), black_list=black_list)\n",
    "hillclimb_model = BayesianNetwork(hillclimb_model)\n",
    "draw_graph(hillclimb_model)\n"
   ]
  },
  {
   "cell_type": "markdown",
   "metadata": {},
   "source": [
    "# Parameter Estimation\n"
   ]
  },
  {
   "cell_type": "code",
   "execution_count": 214,
   "metadata": {
    "collapsed": false,
    "pycharm": {
     "name": "#%%\n"
    }
   },
   "outputs": [
    {
     "name": "stdout",
     "output_type": "stream",
     "text": [
      "Check model: manual_model.check_model()=True\n",
      "Check model: hillclimb_model.check_model()=True\n"
     ]
    }
   ],
   "source": [
    "from pgmpy.estimators import BayesianEstimator, MaximumLikelihoodEstimator\n",
    "\n",
    "model.cpds = []\n",
    "\n",
    "manual_model.fit(data=dataset,\n",
    "            estimator=BayesianEstimator,\n",
    "            prior_type=\"BDeu\",\n",
    "            equivalent_sample_size=10,\n",
    "            complete_samples_only=False,\n",
    ")\n",
    "\n",
    "hillclimb_model.fit(data=dataset,\n",
    "            estimator=BayesianEstimator,\n",
    "            prior_type=\"BDeu\",\n",
    "            equivalent_sample_size=10,\n",
    "            complete_samples_only=False,\n",
    ")\n",
    "\n",
    "#pd.options.display.max_columns = 2000\n",
    "\n",
    "print(f\"Check model: {manual_model.check_model()=}\")\n",
    "print(f\"Check model: {hillclimb_model.check_model()=}\")\n",
    "\n",
    "\n",
    "for cpd in hillclimb_model.get_cpds():\n",
    "    #print(f\"CPT of {cpd.variable}\")\n",
    "    #print(cpd)\n",
    "    pass\n"
   ]
  },
  {
   "cell_type": "markdown",
   "metadata": {},
   "source": [
    "# Inference"
   ]
  },
  {
   "cell_type": "code",
   "execution_count": 226,
   "metadata": {
    "pycharm": {
     "name": "#%%\n"
    }
   },
   "outputs": [],
   "source": [
    "from pgmpy.inference import VariableElimination\n",
    "\n",
    "def queries(model):\n",
    "    model_inference = VariableElimination(model)\n",
    "\n",
    "    def print_query(target, evidence):\n",
    "        value = model_inference.query(target, evidence)\n",
    "        print(f\"P({', '.join(target)} | {', '.join([f'{k}={v}' for (k, v) in evidence.items()])}): \\n{value}\\n\")\n",
    "\n",
    "    #blueWins, blueGoldDiff, towersDiff, killsDiff, blueExperienceDiff, blueHeralds, redHeralds, minionsDiff\n",
    "\n",
    "    queries = [\n",
    "        ([\"blueWins\"], {\"blueGoldDiff\": \"Positive\"}),\n",
    "        #([\"blueWins\"], {\"blueGoldDiff\": \"Very Positive\"}),\n",
    "        ([\"blueWins\"], {\"blueGoldDiff\": \"Positive\", \"towersDiff\": \"Positive\"}),\n",
    "        #([\"blueWins\"], {\"blueGoldDiff\": \"Positive\", \"towersDiff\": \"Negative\"}),\n",
    "        ([\"blueWins\"], {\"blueGoldDiff\": \"Very Negative\", \"towersDiff\": \"Positive\", \"dragonsDiff\": \"Positive\", \"blueExperienceDiff\": \"Positive\"}),\n",
    "        ([\"blueGoldDiff\"], {\"blueWins\": 1}),\n",
    "\n",
    "        # Active v-structure\n",
    "        ([\"blueExperienceDiff\"], {\"dragonsDiff\": \"Positive\", \"blueWins\": 0}),\n",
    "        ([\"killsDiff\"], {\"blueWins\": 1}),\n",
    "\n",
    "        # Active v-structure long\n",
    "        ([\"killsDiff\"], {\"blueHeralds\": \"High\", \"blueGoldDiff\": \"Positive\"}),\n",
    "        ([\"killsDiff\"], {\"blueHeralds\": \"Low\", \"blueGoldDiff\": \"Positive\"}),\n",
    "\n",
    "        # Non active v-structure\n",
    "        ([\"killsDiff\"], {\"blueHeralds\": \"High\", \"blueGoldDiff\": \"Positive\", \"towersDiff\": \"Positive\"}),\n",
    "        ([\"killsDiff\"], {\"blueHeralds\": \"Low\", \"blueGoldDiff\": \"Positive\", \"towersDiff\": \"Positive\"}),\n",
    "    ]\n",
    "\n",
    "    \n",
    "    for query in queries:\n",
    "        print_query(*query)\n"
   ]
  },
  {
   "cell_type": "code",
   "execution_count": 225,
   "metadata": {},
   "outputs": [
    {
     "name": "stdout",
     "output_type": "stream",
     "text": [
      "Handmade model\n"
     ]
    },
    {
     "data": {
      "application/vnd.jupyter.widget-view+json": {
       "model_id": "d1f9a5249c7f4c70858b0c3046d90ec6",
       "version_major": 2,
       "version_minor": 0
      },
      "text/plain": [
       "  0%|          | 0/7 [00:00<?, ?it/s]"
      ]
     },
     "metadata": {},
     "output_type": "display_data"
    },
    {
     "data": {
      "application/vnd.jupyter.widget-view+json": {
       "model_id": "dd41ee224aa9410199265609a92efc6a",
       "version_major": 2,
       "version_minor": 0
      },
      "text/plain": [
       "  0%|          | 0/7 [00:00<?, ?it/s]"
      ]
     },
     "metadata": {},
     "output_type": "display_data"
    },
    {
     "name": "stdout",
     "output_type": "stream",
     "text": [
      "P(blueWins | blueGoldDiff=Positive): \n",
      "+-------------+-----------------+\n",
      "| blueWins    |   phi(blueWins) |\n",
      "+=============+=================+\n",
      "| blueWins(0) |          0.3425 |\n",
      "+-------------+-----------------+\n",
      "| blueWins(1) |          0.6575 |\n",
      "+-------------+-----------------+\n",
      "\n"
     ]
    },
    {
     "data": {
      "application/vnd.jupyter.widget-view+json": {
       "model_id": "223cac823cea4051acab1f9cf5bacea0",
       "version_major": 2,
       "version_minor": 0
      },
      "text/plain": [
       "  0%|          | 0/4 [00:00<?, ?it/s]"
      ]
     },
     "metadata": {},
     "output_type": "display_data"
    },
    {
     "data": {
      "application/vnd.jupyter.widget-view+json": {
       "model_id": "5279e5fba8b14c6f892080a4520a7717",
       "version_major": 2,
       "version_minor": 0
      },
      "text/plain": [
       "  0%|          | 0/4 [00:00<?, ?it/s]"
      ]
     },
     "metadata": {},
     "output_type": "display_data"
    },
    {
     "name": "stdout",
     "output_type": "stream",
     "text": [
      "P(blueWins | blueGoldDiff=Positive, towersDiff=Positive): \n",
      "+-------------+-----------------+\n",
      "| blueWins    |   phi(blueWins) |\n",
      "+=============+=================+\n",
      "| blueWins(0) |          0.3649 |\n",
      "+-------------+-----------------+\n",
      "| blueWins(1) |          0.6351 |\n",
      "+-------------+-----------------+\n",
      "\n"
     ]
    },
    {
     "data": {
      "application/vnd.jupyter.widget-view+json": {
       "model_id": "6087a7f587bc43ecb88df71a29262c37",
       "version_major": 2,
       "version_minor": 0
      },
      "text/plain": [
       "0it [00:00, ?it/s]"
      ]
     },
     "metadata": {},
     "output_type": "display_data"
    },
    {
     "data": {
      "application/vnd.jupyter.widget-view+json": {
       "model_id": "390efd54cb214c64941c7a0ded60ca46",
       "version_major": 2,
       "version_minor": 0
      },
      "text/plain": [
       "0it [00:00, ?it/s]"
      ]
     },
     "metadata": {},
     "output_type": "display_data"
    },
    {
     "name": "stdout",
     "output_type": "stream",
     "text": [
      "P(blueWins | blueGoldDiff=Very Negative, towersDiff=Positive, dragonsDiff=Positive, blueExperienceDiff=Positive): \n",
      "+-------------+-----------------+\n",
      "| blueWins    |   phi(blueWins) |\n",
      "+=============+=================+\n",
      "| blueWins(0) |          0.5000 |\n",
      "+-------------+-----------------+\n",
      "| blueWins(1) |          0.5000 |\n",
      "+-------------+-----------------+\n",
      "\n"
     ]
    },
    {
     "data": {
      "application/vnd.jupyter.widget-view+json": {
       "model_id": "6ad780a9bef94e888081d3f587130fe7",
       "version_major": 2,
       "version_minor": 0
      },
      "text/plain": [
       "  0%|          | 0/7 [00:00<?, ?it/s]"
      ]
     },
     "metadata": {},
     "output_type": "display_data"
    },
    {
     "data": {
      "application/vnd.jupyter.widget-view+json": {
       "model_id": "4a2f5daf9826496ab2f61c5bde8190ac",
       "version_major": 2,
       "version_minor": 0
      },
      "text/plain": [
       "  0%|          | 0/7 [00:00<?, ?it/s]"
      ]
     },
     "metadata": {},
     "output_type": "display_data"
    },
    {
     "name": "stdout",
     "output_type": "stream",
     "text": [
      "P(blueGoldDiff | blueWins=1): \n",
      "+-----------------------------+---------------------+\n",
      "| blueGoldDiff                |   phi(blueGoldDiff) |\n",
      "+=============================+=====================+\n",
      "| blueGoldDiff(Negative)      |              0.1344 |\n",
      "+-----------------------------+---------------------+\n",
      "| blueGoldDiff(Neutral)       |              0.3619 |\n",
      "+-----------------------------+---------------------+\n",
      "| blueGoldDiff(Positive)      |              0.2693 |\n",
      "+-----------------------------+---------------------+\n",
      "| blueGoldDiff(Very Negative) |              0.0537 |\n",
      "+-----------------------------+---------------------+\n",
      "| blueGoldDiff(Very Positive) |              0.1807 |\n",
      "+-----------------------------+---------------------+\n",
      "\n"
     ]
    },
    {
     "data": {
      "application/vnd.jupyter.widget-view+json": {
       "model_id": "45e3d3f7fc884e189d7a1873a8ff519a",
       "version_major": 2,
       "version_minor": 0
      },
      "text/plain": [
       "  0%|          | 0/6 [00:00<?, ?it/s]"
      ]
     },
     "metadata": {},
     "output_type": "display_data"
    },
    {
     "data": {
      "application/vnd.jupyter.widget-view+json": {
       "model_id": "de42b9057ab24ae3bd311c5be8370427",
       "version_major": 2,
       "version_minor": 0
      },
      "text/plain": [
       "  0%|          | 0/6 [00:00<?, ?it/s]"
      ]
     },
     "metadata": {},
     "output_type": "display_data"
    },
    {
     "name": "stdout",
     "output_type": "stream",
     "text": [
      "P(blueExperienceDiff | dragonsDiff=Positive, blueWins=0): \n",
      "+-----------------------------------+---------------------------+\n",
      "| blueExperienceDiff                |   phi(blueExperienceDiff) |\n",
      "+===================================+===========================+\n",
      "| blueExperienceDiff(Negative)      |                    0.1655 |\n",
      "+-----------------------------------+---------------------------+\n",
      "| blueExperienceDiff(Neutral)       |                    0.2305 |\n",
      "+-----------------------------------+---------------------------+\n",
      "| blueExperienceDiff(Positive)      |                    0.1028 |\n",
      "+-----------------------------------+---------------------------+\n",
      "| blueExperienceDiff(Very Negative) |                    0.3418 |\n",
      "+-----------------------------------+---------------------------+\n",
      "| blueExperienceDiff(Very Positive) |                    0.1594 |\n",
      "+-----------------------------------+---------------------------+\n",
      "\n"
     ]
    },
    {
     "data": {
      "application/vnd.jupyter.widget-view+json": {
       "model_id": "f2d03b63d4934a93a3166949cf2f1210",
       "version_major": 2,
       "version_minor": 0
      },
      "text/plain": [
       "  0%|          | 0/7 [00:00<?, ?it/s]"
      ]
     },
     "metadata": {},
     "output_type": "display_data"
    },
    {
     "data": {
      "application/vnd.jupyter.widget-view+json": {
       "model_id": "194a3758409a4811b40a48d989205e98",
       "version_major": 2,
       "version_minor": 0
      },
      "text/plain": [
       "  0%|          | 0/7 [00:00<?, ?it/s]"
      ]
     },
     "metadata": {},
     "output_type": "display_data"
    },
    {
     "name": "stdout",
     "output_type": "stream",
     "text": [
      "P(killsDiff | blueWins=1): \n",
      "+--------------------------+------------------+\n",
      "| killsDiff                |   phi(killsDiff) |\n",
      "+==========================+==================+\n",
      "| killsDiff(Negative)      |           0.1277 |\n",
      "+--------------------------+------------------+\n",
      "| killsDiff(Neutral)       |           0.3833 |\n",
      "+--------------------------+------------------+\n",
      "| killsDiff(Positive)      |           0.1664 |\n",
      "+--------------------------+------------------+\n",
      "| killsDiff(Very Negative) |           0.1253 |\n",
      "+--------------------------+------------------+\n",
      "| killsDiff(Very Positive) |           0.1973 |\n",
      "+--------------------------+------------------+\n",
      "\n"
     ]
    },
    {
     "data": {
      "application/vnd.jupyter.widget-view+json": {
       "model_id": "5ff3d181825f4391a23a408f1e3246ac",
       "version_major": 2,
       "version_minor": 0
      },
      "text/plain": [
       "  0%|          | 0/3 [00:00<?, ?it/s]"
      ]
     },
     "metadata": {},
     "output_type": "display_data"
    },
    {
     "data": {
      "application/vnd.jupyter.widget-view+json": {
       "model_id": "236405b273ea4f2a9dd0247562d125bc",
       "version_major": 2,
       "version_minor": 0
      },
      "text/plain": [
       "  0%|          | 0/3 [00:00<?, ?it/s]"
      ]
     },
     "metadata": {},
     "output_type": "display_data"
    },
    {
     "name": "stdout",
     "output_type": "stream",
     "text": [
      "P(killsDiff | blueHeralds=High, blueGoldDiff=Positive): \n",
      "+--------------------------+------------------+\n",
      "| killsDiff                |   phi(killsDiff) |\n",
      "+==========================+==================+\n",
      "| killsDiff(Negative)      |           0.0318 |\n",
      "+--------------------------+------------------+\n",
      "| killsDiff(Neutral)       |           0.4274 |\n",
      "+--------------------------+------------------+\n",
      "| killsDiff(Positive)      |           0.3277 |\n",
      "+--------------------------+------------------+\n",
      "| killsDiff(Very Negative) |           0.0129 |\n",
      "+--------------------------+------------------+\n",
      "| killsDiff(Very Positive) |           0.2002 |\n",
      "+--------------------------+------------------+\n",
      "\n"
     ]
    },
    {
     "data": {
      "application/vnd.jupyter.widget-view+json": {
       "model_id": "a404dcac37704ba186a4dc84edab2ce9",
       "version_major": 2,
       "version_minor": 0
      },
      "text/plain": [
       "  0%|          | 0/3 [00:00<?, ?it/s]"
      ]
     },
     "metadata": {},
     "output_type": "display_data"
    },
    {
     "data": {
      "application/vnd.jupyter.widget-view+json": {
       "model_id": "311b3ec183c349f7a2b76d9992ec2d7c",
       "version_major": 2,
       "version_minor": 0
      },
      "text/plain": [
       "  0%|          | 0/3 [00:00<?, ?it/s]"
      ]
     },
     "metadata": {},
     "output_type": "display_data"
    },
    {
     "name": "stdout",
     "output_type": "stream",
     "text": [
      "P(killsDiff | blueHeralds=Low, blueGoldDiff=Positive): \n",
      "+--------------------------+------------------+\n",
      "| killsDiff                |   phi(killsDiff) |\n",
      "+==========================+==================+\n",
      "| killsDiff(Negative)      |           0.0092 |\n",
      "+--------------------------+------------------+\n",
      "| killsDiff(Neutral)       |           0.3717 |\n",
      "+--------------------------+------------------+\n",
      "| killsDiff(Positive)      |           0.3765 |\n",
      "+--------------------------+------------------+\n",
      "| killsDiff(Very Negative) |           0.0033 |\n",
      "+--------------------------+------------------+\n",
      "| killsDiff(Very Positive) |           0.2393 |\n",
      "+--------------------------+------------------+\n",
      "\n"
     ]
    },
    {
     "data": {
      "application/vnd.jupyter.widget-view+json": {
       "model_id": "5e8bc8bd11734ec0a0d000c359ae6dbc",
       "version_major": 2,
       "version_minor": 0
      },
      "text/plain": [
       "  0%|          | 0/1 [00:00<?, ?it/s]"
      ]
     },
     "metadata": {},
     "output_type": "display_data"
    },
    {
     "data": {
      "application/vnd.jupyter.widget-view+json": {
       "model_id": "bfffb0c68bf548b59dca95f86558a143",
       "version_major": 2,
       "version_minor": 0
      },
      "text/plain": [
       "  0%|          | 0/1 [00:00<?, ?it/s]"
      ]
     },
     "metadata": {},
     "output_type": "display_data"
    },
    {
     "name": "stdout",
     "output_type": "stream",
     "text": [
      "P(killsDiff | blueHeralds=High, blueGoldDiff=Positive, towersDiff=Positive): \n",
      "+--------------------------+------------------+\n",
      "| killsDiff                |   phi(killsDiff) |\n",
      "+==========================+==================+\n",
      "| killsDiff(Negative)      |           0.1113 |\n",
      "+--------------------------+------------------+\n",
      "| killsDiff(Neutral)       |           0.6502 |\n",
      "+--------------------------+------------------+\n",
      "| killsDiff(Positive)      |           0.1632 |\n",
      "+--------------------------+------------------+\n",
      "| killsDiff(Very Negative) |           0.0463 |\n",
      "+--------------------------+------------------+\n",
      "| killsDiff(Very Positive) |           0.0291 |\n",
      "+--------------------------+------------------+\n",
      "\n"
     ]
    },
    {
     "data": {
      "application/vnd.jupyter.widget-view+json": {
       "model_id": "eabb6964ef864a3fbdccb39a600f2361",
       "version_major": 2,
       "version_minor": 0
      },
      "text/plain": [
       "  0%|          | 0/1 [00:00<?, ?it/s]"
      ]
     },
     "metadata": {},
     "output_type": "display_data"
    },
    {
     "data": {
      "application/vnd.jupyter.widget-view+json": {
       "model_id": "26c5971579f640ad8c84c4b37167adfb",
       "version_major": 2,
       "version_minor": 0
      },
      "text/plain": [
       "  0%|          | 0/1 [00:00<?, ?it/s]"
      ]
     },
     "metadata": {},
     "output_type": "display_data"
    },
    {
     "name": "stdout",
     "output_type": "stream",
     "text": [
      "P(killsDiff | blueHeralds=Low, blueGoldDiff=Positive, towersDiff=Positive): \n",
      "+--------------------------+------------------+\n",
      "| killsDiff                |   phi(killsDiff) |\n",
      "+==========================+==================+\n",
      "| killsDiff(Negative)      |           0.1113 |\n",
      "+--------------------------+------------------+\n",
      "| killsDiff(Neutral)       |           0.6502 |\n",
      "+--------------------------+------------------+\n",
      "| killsDiff(Positive)      |           0.1632 |\n",
      "+--------------------------+------------------+\n",
      "| killsDiff(Very Negative) |           0.0463 |\n",
      "+--------------------------+------------------+\n",
      "| killsDiff(Very Positive) |           0.0291 |\n",
      "+--------------------------+------------------+\n",
      "\n",
      "HillClimb model\n"
     ]
    },
    {
     "data": {
      "application/vnd.jupyter.widget-view+json": {
       "model_id": "2cfe9986bf9d4a7f828f673ba745becc",
       "version_major": 2,
       "version_minor": 0
      },
      "text/plain": [
       "  0%|          | 0/3 [00:00<?, ?it/s]"
      ]
     },
     "metadata": {},
     "output_type": "display_data"
    },
    {
     "data": {
      "application/vnd.jupyter.widget-view+json": {
       "model_id": "08c8ef4d842140e897e72b66ea0962f9",
       "version_major": 2,
       "version_minor": 0
      },
      "text/plain": [
       "  0%|          | 0/3 [00:00<?, ?it/s]"
      ]
     },
     "metadata": {},
     "output_type": "display_data"
    },
    {
     "name": "stdout",
     "output_type": "stream",
     "text": [
      "P(blueWins | blueGoldDiff=Positive): \n",
      "+-------------+-----------------+\n",
      "| blueWins    |   phi(blueWins) |\n",
      "+=============+=================+\n",
      "| blueWins(0) |          0.2696 |\n",
      "+-------------+-----------------+\n",
      "| blueWins(1) |          0.7304 |\n",
      "+-------------+-----------------+\n",
      "\n"
     ]
    },
    {
     "data": {
      "application/vnd.jupyter.widget-view+json": {
       "model_id": "db2490acf64f47edbe06d29e1a36b9c4",
       "version_major": 2,
       "version_minor": 0
      },
      "text/plain": [
       "  0%|          | 0/3 [00:00<?, ?it/s]"
      ]
     },
     "metadata": {},
     "output_type": "display_data"
    },
    {
     "data": {
      "application/vnd.jupyter.widget-view+json": {
       "model_id": "ca0f8f4a92f94fd3b677560c8cb190fa",
       "version_major": 2,
       "version_minor": 0
      },
      "text/plain": [
       "  0%|          | 0/3 [00:00<?, ?it/s]"
      ]
     },
     "metadata": {},
     "output_type": "display_data"
    },
    {
     "name": "stdout",
     "output_type": "stream",
     "text": [
      "P(blueWins | blueGoldDiff=Positive, towersDiff=Positive): \n",
      "+-------------+-----------------+\n",
      "| blueWins    |   phi(blueWins) |\n",
      "+=============+=================+\n",
      "| blueWins(0) |          0.2765 |\n",
      "+-------------+-----------------+\n",
      "| blueWins(1) |          0.7235 |\n",
      "+-------------+-----------------+\n",
      "\n"
     ]
    },
    {
     "data": {
      "application/vnd.jupyter.widget-view+json": {
       "model_id": "39cdedea180442baa49a170ee421c24a",
       "version_major": 2,
       "version_minor": 0
      },
      "text/plain": [
       "0it [00:00, ?it/s]"
      ]
     },
     "metadata": {},
     "output_type": "display_data"
    },
    {
     "data": {
      "application/vnd.jupyter.widget-view+json": {
       "model_id": "3ff363a6ea0841549c57d19be958eb05",
       "version_major": 2,
       "version_minor": 0
      },
      "text/plain": [
       "0it [00:00, ?it/s]"
      ]
     },
     "metadata": {},
     "output_type": "display_data"
    },
    {
     "name": "stdout",
     "output_type": "stream",
     "text": [
      "P(blueWins | blueGoldDiff=Very Negative, towersDiff=Positive, dragonsDiff=Positive, blueExperienceDiff=Positive): \n",
      "+-------------+-----------------+\n",
      "| blueWins    |   phi(blueWins) |\n",
      "+=============+=================+\n",
      "| blueWins(0) |          0.8230 |\n",
      "+-------------+-----------------+\n",
      "| blueWins(1) |          0.1770 |\n",
      "+-------------+-----------------+\n",
      "\n"
     ]
    },
    {
     "data": {
      "application/vnd.jupyter.widget-view+json": {
       "model_id": "4f21bac4d1a04c22947f77567cbcc15e",
       "version_major": 2,
       "version_minor": 0
      },
      "text/plain": [
       "  0%|          | 0/3 [00:00<?, ?it/s]"
      ]
     },
     "metadata": {},
     "output_type": "display_data"
    },
    {
     "data": {
      "application/vnd.jupyter.widget-view+json": {
       "model_id": "d256a9cfd7944ffd8298de101ef59c42",
       "version_major": 2,
       "version_minor": 0
      },
      "text/plain": [
       "  0%|          | 0/3 [00:00<?, ?it/s]"
      ]
     },
     "metadata": {},
     "output_type": "display_data"
    },
    {
     "name": "stdout",
     "output_type": "stream",
     "text": [
      "P(blueGoldDiff | blueWins=1): \n",
      "+-----------------------------+---------------------+\n",
      "| blueGoldDiff                |   phi(blueGoldDiff) |\n",
      "+=============================+=====================+\n",
      "| blueGoldDiff(Negative)      |              0.0987 |\n",
      "+-----------------------------+---------------------+\n",
      "| blueGoldDiff(Neutral)       |              0.3262 |\n",
      "+-----------------------------+---------------------+\n",
      "| blueGoldDiff(Positive)      |              0.2764 |\n",
      "+-----------------------------+---------------------+\n",
      "| blueGoldDiff(Very Negative) |              0.0355 |\n",
      "+-----------------------------+---------------------+\n",
      "| blueGoldDiff(Very Positive) |              0.2632 |\n",
      "+-----------------------------+---------------------+\n",
      "\n"
     ]
    },
    {
     "data": {
      "application/vnd.jupyter.widget-view+json": {
       "model_id": "b747a83487a64345a619e1d445fd11d1",
       "version_major": 2,
       "version_minor": 0
      },
      "text/plain": [
       "  0%|          | 0/3 [00:00<?, ?it/s]"
      ]
     },
     "metadata": {},
     "output_type": "display_data"
    },
    {
     "data": {
      "application/vnd.jupyter.widget-view+json": {
       "model_id": "f2772b8bbe124699bd5987f795459f37",
       "version_major": 2,
       "version_minor": 0
      },
      "text/plain": [
       "  0%|          | 0/3 [00:00<?, ?it/s]"
      ]
     },
     "metadata": {},
     "output_type": "display_data"
    },
    {
     "name": "stdout",
     "output_type": "stream",
     "text": [
      "P(blueExperienceDiff | dragonsDiff=Positive, blueWins=0): \n",
      "+-----------------------------------+---------------------------+\n",
      "| blueExperienceDiff                |   phi(blueExperienceDiff) |\n",
      "+===================================+===========================+\n",
      "| blueExperienceDiff(Negative)      |                    0.1768 |\n",
      "+-----------------------------------+---------------------------+\n",
      "| blueExperienceDiff(Neutral)       |                    0.2351 |\n",
      "+-----------------------------------+---------------------------+\n",
      "| blueExperienceDiff(Positive)      |                    0.1281 |\n",
      "+-----------------------------------+---------------------------+\n",
      "| blueExperienceDiff(Very Negative) |                    0.3268 |\n",
      "+-----------------------------------+---------------------------+\n",
      "| blueExperienceDiff(Very Positive) |                    0.1333 |\n",
      "+-----------------------------------+---------------------------+\n",
      "\n"
     ]
    },
    {
     "data": {
      "application/vnd.jupyter.widget-view+json": {
       "model_id": "0fce648326814648b0d8a27c23143f74",
       "version_major": 2,
       "version_minor": 0
      },
      "text/plain": [
       "  0%|          | 0/3 [00:00<?, ?it/s]"
      ]
     },
     "metadata": {},
     "output_type": "display_data"
    },
    {
     "data": {
      "application/vnd.jupyter.widget-view+json": {
       "model_id": "95453e2204d04382be507853b353cc8a",
       "version_major": 2,
       "version_minor": 0
      },
      "text/plain": [
       "  0%|          | 0/3 [00:00<?, ?it/s]"
      ]
     },
     "metadata": {},
     "output_type": "display_data"
    },
    {
     "name": "stdout",
     "output_type": "stream",
     "text": [
      "P(killsDiff | blueWins=1): \n",
      "+--------------------------+------------------+\n",
      "| killsDiff                |   phi(killsDiff) |\n",
      "+==========================+==================+\n",
      "| killsDiff(Negative)      |           0.1055 |\n",
      "+--------------------------+------------------+\n",
      "| killsDiff(Neutral)       |           0.3915 |\n",
      "+--------------------------+------------------+\n",
      "| killsDiff(Positive)      |           0.1926 |\n",
      "+--------------------------+------------------+\n",
      "| killsDiff(Very Negative) |           0.0688 |\n",
      "+--------------------------+------------------+\n",
      "| killsDiff(Very Positive) |           0.2416 |\n",
      "+--------------------------+------------------+\n",
      "\n"
     ]
    },
    {
     "data": {
      "application/vnd.jupyter.widget-view+json": {
       "model_id": "e1bb1690c7e4455e97cdf6dd2412e03e",
       "version_major": 2,
       "version_minor": 0
      },
      "text/plain": [
       "  0%|          | 0/5 [00:00<?, ?it/s]"
      ]
     },
     "metadata": {},
     "output_type": "display_data"
    },
    {
     "data": {
      "application/vnd.jupyter.widget-view+json": {
       "model_id": "06ca42d1dac142b69a16e63c9a44dd25",
       "version_major": 2,
       "version_minor": 0
      },
      "text/plain": [
       "  0%|          | 0/5 [00:00<?, ?it/s]"
      ]
     },
     "metadata": {},
     "output_type": "display_data"
    },
    {
     "name": "stdout",
     "output_type": "stream",
     "text": [
      "P(killsDiff | blueHeralds=High, blueGoldDiff=Positive): \n",
      "+--------------------------+------------------+\n",
      "| killsDiff                |   phi(killsDiff) |\n",
      "+==========================+==================+\n",
      "| killsDiff(Negative)      |           0.0177 |\n",
      "+--------------------------+------------------+\n",
      "| killsDiff(Neutral)       |           0.4537 |\n",
      "+--------------------------+------------------+\n",
      "| killsDiff(Positive)      |           0.3866 |\n",
      "+--------------------------+------------------+\n",
      "| killsDiff(Very Negative) |           0.0022 |\n",
      "+--------------------------+------------------+\n",
      "| killsDiff(Very Positive) |           0.1398 |\n",
      "+--------------------------+------------------+\n",
      "\n"
     ]
    },
    {
     "data": {
      "application/vnd.jupyter.widget-view+json": {
       "model_id": "c0b96d52feaf41268d29f5ef73b96542",
       "version_major": 2,
       "version_minor": 0
      },
      "text/plain": [
       "  0%|          | 0/5 [00:00<?, ?it/s]"
      ]
     },
     "metadata": {},
     "output_type": "display_data"
    },
    {
     "data": {
      "application/vnd.jupyter.widget-view+json": {
       "model_id": "b826bb830d7a4904addef3972a1f4ca9",
       "version_major": 2,
       "version_minor": 0
      },
      "text/plain": [
       "  0%|          | 0/5 [00:00<?, ?it/s]"
      ]
     },
     "metadata": {},
     "output_type": "display_data"
    },
    {
     "name": "stdout",
     "output_type": "stream",
     "text": [
      "P(killsDiff | blueHeralds=Low, blueGoldDiff=Positive): \n",
      "+--------------------------+------------------+\n",
      "| killsDiff                |   phi(killsDiff) |\n",
      "+==========================+==================+\n",
      "| killsDiff(Negative)      |           0.0068 |\n",
      "+--------------------------+------------------+\n",
      "| killsDiff(Neutral)       |           0.4115 |\n",
      "+--------------------------+------------------+\n",
      "| killsDiff(Positive)      |           0.4211 |\n",
      "+--------------------------+------------------+\n",
      "| killsDiff(Very Negative) |           0.0010 |\n",
      "+--------------------------+------------------+\n",
      "| killsDiff(Very Positive) |           0.1595 |\n",
      "+--------------------------+------------------+\n",
      "\n"
     ]
    },
    {
     "data": {
      "application/vnd.jupyter.widget-view+json": {
       "model_id": "a86cea3d44924476bbfd448a6c551b5a",
       "version_major": 2,
       "version_minor": 0
      },
      "text/plain": [
       "  0%|          | 0/4 [00:00<?, ?it/s]"
      ]
     },
     "metadata": {},
     "output_type": "display_data"
    },
    {
     "data": {
      "application/vnd.jupyter.widget-view+json": {
       "model_id": "49bba1061e33421c9a35ead7a0d43dee",
       "version_major": 2,
       "version_minor": 0
      },
      "text/plain": [
       "  0%|          | 0/4 [00:00<?, ?it/s]"
      ]
     },
     "metadata": {},
     "output_type": "display_data"
    },
    {
     "name": "stdout",
     "output_type": "stream",
     "text": [
      "P(killsDiff | blueHeralds=High, blueGoldDiff=Positive, towersDiff=Positive): \n",
      "+--------------------------+------------------+\n",
      "| killsDiff                |   phi(killsDiff) |\n",
      "+==========================+==================+\n",
      "| killsDiff(Negative)      |           0.0938 |\n",
      "+--------------------------+------------------+\n",
      "| killsDiff(Neutral)       |           0.7254 |\n",
      "+--------------------------+------------------+\n",
      "| killsDiff(Positive)      |           0.1503 |\n",
      "+--------------------------+------------------+\n",
      "| killsDiff(Very Negative) |           0.0105 |\n",
      "+--------------------------+------------------+\n",
      "| killsDiff(Very Positive) |           0.0200 |\n",
      "+--------------------------+------------------+\n",
      "\n"
     ]
    },
    {
     "data": {
      "application/vnd.jupyter.widget-view+json": {
       "model_id": "e7ac2f2404854198837db4258b78af2b",
       "version_major": 2,
       "version_minor": 0
      },
      "text/plain": [
       "  0%|          | 0/4 [00:00<?, ?it/s]"
      ]
     },
     "metadata": {},
     "output_type": "display_data"
    },
    {
     "data": {
      "application/vnd.jupyter.widget-view+json": {
       "model_id": "c45698b802504db5b043482ac6797424",
       "version_major": 2,
       "version_minor": 0
      },
      "text/plain": [
       "  0%|          | 0/4 [00:00<?, ?it/s]"
      ]
     },
     "metadata": {},
     "output_type": "display_data"
    },
    {
     "name": "stdout",
     "output_type": "stream",
     "text": [
      "P(killsDiff | blueHeralds=Low, blueGoldDiff=Positive, towersDiff=Positive): \n",
      "+--------------------------+------------------+\n",
      "| killsDiff                |   phi(killsDiff) |\n",
      "+==========================+==================+\n",
      "| killsDiff(Negative)      |           0.0946 |\n",
      "+--------------------------+------------------+\n",
      "| killsDiff(Neutral)       |           0.7261 |\n",
      "+--------------------------+------------------+\n",
      "| killsDiff(Positive)      |           0.1491 |\n",
      "+--------------------------+------------------+\n",
      "| killsDiff(Very Negative) |           0.0106 |\n",
      "+--------------------------+------------------+\n",
      "| killsDiff(Very Positive) |           0.0196 |\n",
      "+--------------------------+------------------+\n",
      "\n"
     ]
    }
   ],
   "source": [
    "print(\"Handmade model\")\n",
    "queries(manual_model)\n",
    "print(\"HillClimb model\")\n",
    "queries(hillclimb_model)\n"
   ]
  },
  {
   "cell_type": "markdown",
   "metadata": {},
   "source": [
    "# Model comparisons"
   ]
  },
  {
   "cell_type": "code",
   "execution_count": 220,
   "metadata": {},
   "outputs": [
    {
     "name": "stdout",
     "output_type": "stream",
     "text": [
      "Number of parameters in handmade network: 717\n",
      "Number of parameters in hillclimb network: 378\n",
      "Bic score for handmade network: -75742.43032782404\n",
      "Bic score for hillclimb baseline network: -69638.50234097366\n"
     ]
    }
   ],
   "source": [
    "def get_num_parameters(model): return sum(\n",
    "    [len(cpd.get_values().ravel()) for cpd in model.get_cpds()])\n",
    "\n",
    "\n",
    "bdeu_score = BDeuScore(dataset)\n",
    "\n",
    "print(\"Number of parameters in handmade network: {}\".format(\n",
    "    get_num_parameters(manual_model)))\n",
    "print(\"Number of parameters in hillclimb network: {}\".format(\n",
    "    get_num_parameters(hillclimb_model)))\n",
    "\n",
    "# N.B. the documentation for bic_score asserts that a model with a higher score fits the data better\n",
    "\n",
    "print(\"Bic score for handmade network: {}\".format(\n",
    "    bdeu_score.score(manual_model)))\n",
    "print(\"Bic score for hillclimb baseline network: {}\".format(\n",
    "    bdeu_score.score(hillclimb_model)))\n",
    "\n"
   ]
  },
  {
   "cell_type": "markdown",
   "metadata": {},
   "source": [
    "# Indipendence and Markov blanket"
   ]
  },
  {
   "cell_type": "code",
   "execution_count": null,
   "metadata": {
    "pycharm": {
     "name": "#%%\n"
    }
   },
   "outputs": [
    {
     "name": "stdout",
     "output_type": "stream",
     "text": [
      "Active trails between 'blueGoldDiff' and {'minionsDiff', 'killsDiff', 'dragonsDiff', 'blueExperienceDiff'} given the evidence {'towersDiff', 'blueWins'}.\n",
      "Markov blanket of 'blueGoldDiff' is {'minionsDiff', 'towersDiff', 'dragonsDiff', 'killsDiff', 'blueWins', 'blueExperienceDiff'}\n"
     ]
    }
   ],
   "source": [
    "def active_trails_of(query, evidence):\n",
    "    active = model.active_trail_nodes(query, observed=evidence).get(query)\n",
    "    active.remove(query)\n",
    "    if active:\n",
    "        if evidence:\n",
    "            print(f'Active trails between \\'{query}\\' and {active} given the evidence {set(evidence)}.')\n",
    "        else:\n",
    "            print(f'Active trails between \\'{query}\\' and {active} given no evidence.')\n",
    "    else:\n",
    "        print(f'No active trails for \\'{query}\\' given the evidence {set(evidence)}.')\n",
    "\n",
    "active_trails_of(\"blueGoldDiff\", [\"blueWins\", \"towersDiff\"])\n",
    "\n",
    "\n",
    "\n",
    "def markov_blanket_of(node):\n",
    "    print(f'Markov blanket of \\'{node}\\' is {set(model.get_markov_blanket(node))}')\n",
    "\n",
    "markov_blanket_of(node='blueGoldDiff')"
   ]
  },
  {
   "cell_type": "markdown",
   "metadata": {},
   "source": [
    "## Results"
   ]
  }
 ],
 "metadata": {
  "kernelspec": {
   "display_name": "Python 3.10.6 64-bit",
   "language": "python",
   "name": "python3"
  },
  "language_info": {
   "codemirror_mode": {
    "name": "ipython",
    "version": 3
   },
   "file_extension": ".py",
   "mimetype": "text/x-python",
   "name": "python",
   "nbconvert_exporter": "python",
   "pygments_lexer": "ipython3",
   "version": "3.10.6"
  },
  "vscode": {
   "interpreter": {
    "hash": "916dbcbb3f70747c44a77c7bcd40155683ae19c65e1c03b4aa3499c5328201f1"
   }
  }
 },
 "nbformat": 4,
 "nbformat_minor": 0
}
